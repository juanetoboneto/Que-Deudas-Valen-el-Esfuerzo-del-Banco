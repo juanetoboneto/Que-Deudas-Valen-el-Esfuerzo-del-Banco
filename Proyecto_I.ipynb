{
  "nbformat": 4,
  "nbformat_minor": 0,
  "metadata": {
    "colab": {
      "provenance": [],
      "collapsed_sections": [
        "hV6u2vxq_11x",
        "1txa7vN6GvjH",
        "rnkARa1lAWGw",
        "5Uoo9ZW1AhXa",
        "MhdE3gCRoOh7",
        "kgdiHKyZqdpP",
        "wwnPTrHV1Sm1",
        "R_SPzo5ry5IL",
        "6DoyhDrzqZVG",
        "f8M5r1D-9mTh",
        "luzC5t4lQwb4"
      ],
      "include_colab_link": true
    },
    "kernelspec": {
      "name": "python3",
      "display_name": "Python 3"
    },
    "language_info": {
      "name": "python"
    }
  },
  "cells": [
    {
      "cell_type": "markdown",
      "metadata": {
        "id": "view-in-github",
        "colab_type": "text"
      },
      "source": [
        "<a href=\"https://colab.research.google.com/github/juanetoboneto/Que-Deudas-Valen-el-Esfuerzo-del-Banco/blob/main/Proyecto_I.ipynb\" target=\"_parent\"><img src=\"https://colab.research.google.com/assets/colab-badge.svg\" alt=\"Open In Colab\"/></a>"
      ]
    },
    {
      "cell_type": "markdown",
      "source": [
        " #Proyecto I : \"*Which Debts Are Worth the Bank's Effort?\"*\n",
        "\n"
      ],
      "metadata": {
        "id": "5qO3zUxMMXb4"
      }
    },
    {
      "cell_type": "markdown",
      "source": [
        "#1. Descripción del Proyecto:\n",
        "Después de que un banco haya declarado legalmente que una deuda es \"incobrable\", se considera que la cuenta está \"cancelada\".\n",
        "Sin embargo, esto no significa que el banco no quiera recuperar, al menos, una parte de dicha deuda. Todavia buscan cobrar una parte del dinero que se les debe.\n",
        "\n",
        "En este proyecto, se verá una situación en la que un banco asignó a los clientes morosos diferentes estrategias de recuperación en función del monto esperado que el banco creía que recuperaría del cliente, entre mayor sea el dinero que es posible recuperar, mayor sera la estrategia de recuperación.\n",
        "\n",
        "También hay que tener en cuenta que el asignar una estrategia específica de recuperación en este caso llamada \"estrategia de recuperación alta\" a un cliente moroso tiene un costo para el banco; en especifico, entre mayor sea la estrategia de recuperación mas alto sera el coste de dicha estrategia."
      ],
      "metadata": {
        "id": "HD_-h5BYXkIC"
      }
    },
    {
      "cell_type": "markdown",
      "source": [
        "#2. Objetivo del Proyecto:\n",
        "El objetivo es determinar en esta asignación no aleatoria si la cantidad incremental (o también llamado ingreso incremental que es  la forma en la que el banco calcula los beneficios adicionales generados por la aplicación de una estrategia de recuperación alta) que gana el banco superó el costo adicional de asignar clientes a una estrategia de recuperación más alta."
      ],
      "metadata": {
        "id": "WimCao4xXgFC"
      }
    },
    {
      "cell_type": "markdown",
      "source": [
        "#3. Los Paquetes que Usaremos:\n",
        "Los paquetes que usaremos a lo largo de este proyecto son los siguientes:\n",
        "\n",
        "\n",
        "*   **NumPy.** Este paquete es el que permite crear **DataFrames**, entendidos estos como matrices multidimencionales y permite realizar algunas operaciones básicas con estos, de los cuales, el que mas nos interesa es la capacidad de realizar algebra lineal, dandonos una funcionalidad parecida a **MatLab**. Lo necesitamos instalar pues es el paquete estructural y fundamental para los demás.\n",
        "*   **Pandas.**  Este paquete está especializado en el análisis de datos y la ciencia de datos, proporciona varias herramientas para ello: Permite importar datos en formato **cvs.** a **DataFrames**, de los cuales permite realizar inspecciones de registros, separación, cortes, unión y concatenación de los mismos, clasificarlos y realizar resumenes. Para ello dispone de un gran grupo de funciones. Lo usaremos para estudiar los datos en forma de DataFrame y poder manipular este según nos sea de utilidad.\n",
        "*   **Matplotlib.** Este paquete es esencialmente gráfico, que permite realizar gráficas apartir de  **DataFrames** mas específicamente objetos que se definen en **NumPy.** y que utilizaremos para realizar pruebas y exploración estadística parecida a **MatLab** y **R Proyect**.\n",
        "*   **SciPy.** Biblioteca complementaria e integrada a **NumPy** que nos provee de algunas funcionalidades estadisticas, herramientas para test y regresiones.\n",
        "*   **Seaborn.** Esta es una libreria basada en **Matplotlib** para la visualización de datos, provee una interfas de alto nivel para graficas estadisticas atractivas e informativas.\n",
        "\n",
        "*   **Stats Models.** es un módulo de Python que proporciona clases y funciones para la estimación de muchos modelos estadísticos diferentes, así como para realizar pruebas estadísticas y exploración de datos estadísticos.\n",
        "\n",
        " Notese que los paquetes que utilizaremos buscan traer características y ventajas de otros lenguajes como **R Proyect** o **MatLab** a **Python** lo que es prueba de la flexibilidad del último.\n",
        "\n"
      ],
      "metadata": {
        "id": "g8XViIsVVG35"
      }
    },
    {
      "cell_type": "code",
      "source": [
        "import numpy as np\n",
        "from numpy.lib.function_base import median\n",
        "import pandas as pd\n",
        "import matplotlib.pyplot as plt\n",
        "import scipy as sci\n",
        "# Para el Estudio Grafico de Multiples Variables\n",
        "import seaborn as sns\n",
        "# Para el uso Estadistico Especifico\n",
        "from scipy import stats\n",
        "import statistics \n",
        "# Para el uso de Operaciones Especificas\n",
        "import operator\n",
        "# Para crear modelos Estadisticos\n",
        "import statsmodels.api as sm"
      ],
      "metadata": {
        "id": "J4ctrk3hMQas"
      },
      "execution_count": null,
      "outputs": []
    },
    {
      "cell_type": "markdown",
      "source": [
        "#4. Los Datos del Proyecto:\n",
        "Para realizar este estudio dependeremos directamente de los datos proporcionados por el banco, acerca de $1883$ clientes morosos, estos datos, a su vez, se pueden dividir en $5$ clases para cada cliente:\n",
        "\n",
        "*   **ID.**  Se trata sencillamente del número de identificación de cada cliente y para nuestro estudio, en particular, no nos será de especial utilidad.\n",
        "*   **Expected Recovery Amount.** La cantidad de Unidades Monetarias (UM) que espera el banco recuperar de su respectivo cliente moroso, dicha cantidad es total e independiente para cada cliente.\n",
        "*   **Actual Recovery Amount.**  La cantidad de Unidades Monetarias (UM) que pudo recuperar el banco *de facto* de los clientes morosos, la cantidad real que se recupero, tambien es total y es independiente para cada cliente.\n",
        "*   **Recovery Strategy.** Este es el dato mas importante para nuestra investigación. La estrategia de recuperación es el dato de cuántas Unidades Monetarias destina el banco para asegurar la recuperación, entre mayor sea el monto que se espera mayores serán los esfuerzos del banco para recuperarlo; parte de un monto mínimo **Nivel $0$** y cada nivel va aumentando la inversión en $50$ Unidades Monetarias, hasta tener el **Nivel $4$** desde el **Nivel $0$**.\n",
        "*   **Age.** La edad de los clientes, con este dato podríamos realizar un **Contraste No Paramétrico**.\n",
        "*   **Sex.** El sexo de los clientes, con este dato debemos realizar un testeo estadístico. \n",
        "\n",
        "\n",
        "\n"
      ],
      "metadata": {
        "id": "i3BDi_mJXP0a"
      }
    },
    {
      "cell_type": "code",
      "source": [
        "url=\"https://raw.githubusercontent.com/juanetoboneto/Que-Deudas-Valen-el-Esfuerzo-del-Banco/main/DatosBanco.csv\"\n",
        "Datos=pd.read_csv(url)\n",
        "\n",
        "print(Datos)\n",
        "print(\"El Tamaño de la Data:\",Datos.size)\n",
        "print(\"Propiedades de la Data:\",Datos.describe)"
      ],
      "metadata": {
        "colab": {
          "base_uri": "https://localhost:8080/"
        },
        "id": "N4mPa2XG3HkD",
        "outputId": "3a1d7ac6-b56f-45ed-9daa-6818bdb67ed4"
      },
      "execution_count": null,
      "outputs": [
        {
          "output_type": "stream",
          "name": "stdout",
          "text": [
            "        id  monto_de_recuperacion_esperado  monto_de_recuperacion_real  \\\n",
            "0     2030                             194                  263.540000   \n",
            "1     1150                             486                  416.090000   \n",
            "2      380                             527                  429.350000   \n",
            "3     1838                             536                  296.990000   \n",
            "4     1995                             541                  346.385000   \n",
            "...    ...                             ...                         ...   \n",
            "1877   361                            9785                15388.195990   \n",
            "1878   196                            9857                 9709.909257   \n",
            "1879   313                            9859                30209.181790   \n",
            "1880  1781                            9920                20386.232190   \n",
            "1881   522                            9964                16706.305920   \n",
            "\n",
            "     estrategia_de_recuperacion  edad       sexo  \n",
            "0       Nivel 0 de Recuperacion    19  Masculino  \n",
            "1       Nivel 0 de Recuperacion    25   Femenino  \n",
            "2       Nivel 0 de Recuperacion    27  Masculino  \n",
            "3       Nivel 0 de Recuperacion    25  Masculino  \n",
            "4       Nivel 0 de Recuperacion    34  Masculino  \n",
            "...                         ...   ...        ...  \n",
            "1877    Nivel 4 de Recuperacion    65   Femenino  \n",
            "1878    Nivel 4 de Recuperacion    68   Femenino  \n",
            "1879    Nivel 4 de Recuperacion    58   Femenino  \n",
            "1880    Nivel 4 de Recuperacion    67   Femenino  \n",
            "1881    Nivel 4 de Recuperacion    53  Masculino  \n",
            "\n",
            "[1882 rows x 6 columns]\n",
            "El Tamaño de la Data: 11292\n",
            "Propiedades de la Data: <bound method NDFrame.describe of         id  monto_de_recuperacion_esperado  monto_de_recuperacion_real  \\\n",
            "0     2030                             194                  263.540000   \n",
            "1     1150                             486                  416.090000   \n",
            "2      380                             527                  429.350000   \n",
            "3     1838                             536                  296.990000   \n",
            "4     1995                             541                  346.385000   \n",
            "...    ...                             ...                         ...   \n",
            "1877   361                            9785                15388.195990   \n",
            "1878   196                            9857                 9709.909257   \n",
            "1879   313                            9859                30209.181790   \n",
            "1880  1781                            9920                20386.232190   \n",
            "1881   522                            9964                16706.305920   \n",
            "\n",
            "     estrategia_de_recuperacion  edad       sexo  \n",
            "0       Nivel 0 de Recuperacion    19  Masculino  \n",
            "1       Nivel 0 de Recuperacion    25   Femenino  \n",
            "2       Nivel 0 de Recuperacion    27  Masculino  \n",
            "3       Nivel 0 de Recuperacion    25  Masculino  \n",
            "4       Nivel 0 de Recuperacion    34  Masculino  \n",
            "...                         ...   ...        ...  \n",
            "1877    Nivel 4 de Recuperacion    65   Femenino  \n",
            "1878    Nivel 4 de Recuperacion    68   Femenino  \n",
            "1879    Nivel 4 de Recuperacion    58   Femenino  \n",
            "1880    Nivel 4 de Recuperacion    67   Femenino  \n",
            "1881    Nivel 4 de Recuperacion    53  Masculino  \n",
            "\n",
            "[1882 rows x 6 columns]>\n"
          ]
        }
      ]
    },
    {
      "cell_type": "markdown",
      "source": [
        "#5. Desarrollo del proyecto:\n"
      ],
      "metadata": {
        "id": "8lb9JiaVRtxa"
      }
    },
    {
      "cell_type": "markdown",
      "source": [
        "##5.1. Estadistica Descriptiva de Variable Unidimensional:\n",
        "\n"
      ],
      "metadata": {
        "id": "D_wEa87xw3Zy"
      }
    },
    {
      "cell_type": "markdown",
      "source": [
        "1. **Resumen de Estadistica Descriptiva en Una Variable:**\n",
        "En nuestro proyecto particular deberemos hacer un estudio, primero, de cada variable presente en los datos; para esto nos sera util primero describir que tipos de variable se pueden presentar en la estadistica descriptiva (según *Introductory Statistics, Prem S. Mann; Christoper Jay Lacke*):\n",
        "\n",
        "*   **Las Variables Cuantitativas:** Estas son variables que pueden ser medidas numericamente, se dividen en continuas (medidas por numeros reales) y discretas (medidas por numeros enteros).\n",
        "*   **Las Variables Cualitativas:** Tambien llamadas Categoricas, son el tipo de variables que, apesar de no poder asumir valores numericos, pueden ser clasificadas en 2 o mas categorias no numericas.\n",
        "\n",
        "Para nuestro analisis necesitamos conocer las distintas clases de objetos que estaran presentes en nuestra Data, y como son entendidos tannto por el programa que usamos como por los diferentes modulos:\n",
        "\n",
        "\n",
        "**Tipos de Clasificacion en Python Pandas:** Al ser nuestro compilador de data, para clasificar utilizaremos la funcionalidad de Pandas, para estos tipos se diferencian los elementos de 32 ó 64 Bits, si son diferentes no se podran operar entre si.\n",
        "*   **int:** para los enteros.\n",
        "*   **float:** para los reales.\n",
        "*   **datetime:**, para los datos que clasifican en el tiempo.\n",
        "*   **category:** especificamente para las variables cualitativas.\n",
        "*   **object:** se usa para secuencias que pueden ser de numeros y caracteres.\n",
        "\n",
        "Para identificar cual es el tipo de cada variable de nustros datos a la vez podremos usar el siguiente comando:"
      ],
      "metadata": {
        "id": "Q9gV1GQfe65h"
      }
    },
    {
      "cell_type": "code",
      "source": [
        "Datos.info()"
      ],
      "metadata": {
        "colab": {
          "base_uri": "https://localhost:8080/"
        },
        "id": "WBZRvyG2pjDx",
        "outputId": "937691ff-1850-4b55-e2d7-81daeb60eb74"
      },
      "execution_count": null,
      "outputs": [
        {
          "output_type": "stream",
          "name": "stdout",
          "text": [
            "<class 'pandas.core.frame.DataFrame'>\n",
            "RangeIndex: 1882 entries, 0 to 1881\n",
            "Data columns (total 6 columns):\n",
            " #   Column                          Non-Null Count  Dtype  \n",
            "---  ------                          --------------  -----  \n",
            " 0   id                              1882 non-null   int64  \n",
            " 1   monto_de_recuperacion_esperado  1882 non-null   int64  \n",
            " 2   monto_de_recuperacion_real      1882 non-null   float64\n",
            " 3   estrategia_de_recuperacion      1882 non-null   object \n",
            " 4   edad                            1882 non-null   int64  \n",
            " 5   sexo                            1882 non-null   object \n",
            "dtypes: float64(1), int64(3), object(2)\n",
            "memory usage: 88.3+ KB\n"
          ]
        }
      ]
    },
    {
      "cell_type": "markdown",
      "source": [
        "Gracias a esta función podemos ver el tipo de cada una de nuestras variables. Con esto en mente podremos obtener a partir de las *Variables Cuantitativas* \n",
        "Estas van desde Medidas de Tendencia Central (Que buscan obtener un dato que represente el conjunto de los datos) como el promedio, pasando por Medidas de Dispercion como la desviacion estandar (Que determina que tan dispersos estan los datos con respecto al promedio), hasta Medidas de Posicion (Por la naturaleza de los datos que poseemos) de Datos ]Agruados, tales como los Cuartiles.\n",
        "\n",
        "De estos datos el comando `XX.describe()` nos dara varias de esas medidas:\n",
        "\n",
        "\n",
        "*   **count:** Es la cantidad de datos de dicha variable \n",
        "*   **mean:** Tambien llamada media aritmetica o promedio, medida de Tendencia Central única, es un valor que representa el comportamiento de los datos. \n",
        "*    **std:** Es un valor que verifica qué tan agrupados o separados están los datos.\n",
        "* **min:** Es el mínimo valor que hay en los datos.\n",
        "* **cuartiles:** son los valores de la distribución que la dividen en cuatro partes iguales, en intervalos que comprenden el mismo número de valores en este caso un *25%, 50%,75%*.\n",
        "* **max:** Representa el valor maximo en la lista que tomo dicha variable, y coincide con el percentil del *100%*."
      ],
      "metadata": {
        "id": "sUZuRNsOuHRM"
      }
    },
    {
      "cell_type": "code",
      "source": [
        "Datos.describe()"
      ],
      "metadata": {
        "colab": {
          "base_uri": "https://localhost:8080/",
          "height": 300
        },
        "id": "HUWuVJw8tUjl",
        "outputId": "0c811024-480a-429b-e0b0-f83f687a2119"
      },
      "execution_count": null,
      "outputs": [
        {
          "output_type": "execute_result",
          "data": {
            "text/plain": [
              "                id  monto_de_recuperacion_esperado  \\\n",
              "count  1882.000000                     1882.000000   \n",
              "mean   1035.596174                     2759.967588   \n",
              "std     591.458429                     2019.826565   \n",
              "min       6.000000                      194.000000   \n",
              "25%     534.250000                     1261.250000   \n",
              "50%    1029.500000                     2062.000000   \n",
              "75%    1551.750000                     3569.500000   \n",
              "max    2056.000000                     9964.000000   \n",
              "\n",
              "       monto_de_recuperacion_real         edad  \n",
              "count                 1882.000000  1882.000000  \n",
              "mean                  4000.967837    39.650372  \n",
              "std                   4576.506350    15.453072  \n",
              "min                    200.425000    18.000000  \n",
              "25%                   1045.190300    28.000000  \n",
              "50%                   2115.446373    35.000000  \n",
              "75%                   5417.237207    50.000000  \n",
              "max                  34398.479710    84.000000  "
            ],
            "text/html": [
              "\n",
              "  <div id=\"df-58d9a17e-17cf-44ae-97d9-b6a9785381b2\">\n",
              "    <div class=\"colab-df-container\">\n",
              "      <div>\n",
              "<style scoped>\n",
              "    .dataframe tbody tr th:only-of-type {\n",
              "        vertical-align: middle;\n",
              "    }\n",
              "\n",
              "    .dataframe tbody tr th {\n",
              "        vertical-align: top;\n",
              "    }\n",
              "\n",
              "    .dataframe thead th {\n",
              "        text-align: right;\n",
              "    }\n",
              "</style>\n",
              "<table border=\"1\" class=\"dataframe\">\n",
              "  <thead>\n",
              "    <tr style=\"text-align: right;\">\n",
              "      <th></th>\n",
              "      <th>id</th>\n",
              "      <th>monto_de_recuperacion_esperado</th>\n",
              "      <th>monto_de_recuperacion_real</th>\n",
              "      <th>edad</th>\n",
              "    </tr>\n",
              "  </thead>\n",
              "  <tbody>\n",
              "    <tr>\n",
              "      <th>count</th>\n",
              "      <td>1882.000000</td>\n",
              "      <td>1882.000000</td>\n",
              "      <td>1882.000000</td>\n",
              "      <td>1882.000000</td>\n",
              "    </tr>\n",
              "    <tr>\n",
              "      <th>mean</th>\n",
              "      <td>1035.596174</td>\n",
              "      <td>2759.967588</td>\n",
              "      <td>4000.967837</td>\n",
              "      <td>39.650372</td>\n",
              "    </tr>\n",
              "    <tr>\n",
              "      <th>std</th>\n",
              "      <td>591.458429</td>\n",
              "      <td>2019.826565</td>\n",
              "      <td>4576.506350</td>\n",
              "      <td>15.453072</td>\n",
              "    </tr>\n",
              "    <tr>\n",
              "      <th>min</th>\n",
              "      <td>6.000000</td>\n",
              "      <td>194.000000</td>\n",
              "      <td>200.425000</td>\n",
              "      <td>18.000000</td>\n",
              "    </tr>\n",
              "    <tr>\n",
              "      <th>25%</th>\n",
              "      <td>534.250000</td>\n",
              "      <td>1261.250000</td>\n",
              "      <td>1045.190300</td>\n",
              "      <td>28.000000</td>\n",
              "    </tr>\n",
              "    <tr>\n",
              "      <th>50%</th>\n",
              "      <td>1029.500000</td>\n",
              "      <td>2062.000000</td>\n",
              "      <td>2115.446373</td>\n",
              "      <td>35.000000</td>\n",
              "    </tr>\n",
              "    <tr>\n",
              "      <th>75%</th>\n",
              "      <td>1551.750000</td>\n",
              "      <td>3569.500000</td>\n",
              "      <td>5417.237207</td>\n",
              "      <td>50.000000</td>\n",
              "    </tr>\n",
              "    <tr>\n",
              "      <th>max</th>\n",
              "      <td>2056.000000</td>\n",
              "      <td>9964.000000</td>\n",
              "      <td>34398.479710</td>\n",
              "      <td>84.000000</td>\n",
              "    </tr>\n",
              "  </tbody>\n",
              "</table>\n",
              "</div>\n",
              "      <button class=\"colab-df-convert\" onclick=\"convertToInteractive('df-58d9a17e-17cf-44ae-97d9-b6a9785381b2')\"\n",
              "              title=\"Convert this dataframe to an interactive table.\"\n",
              "              style=\"display:none;\">\n",
              "        \n",
              "  <svg xmlns=\"http://www.w3.org/2000/svg\" height=\"24px\"viewBox=\"0 0 24 24\"\n",
              "       width=\"24px\">\n",
              "    <path d=\"M0 0h24v24H0V0z\" fill=\"none\"/>\n",
              "    <path d=\"M18.56 5.44l.94 2.06.94-2.06 2.06-.94-2.06-.94-.94-2.06-.94 2.06-2.06.94zm-11 1L8.5 8.5l.94-2.06 2.06-.94-2.06-.94L8.5 2.5l-.94 2.06-2.06.94zm10 10l.94 2.06.94-2.06 2.06-.94-2.06-.94-.94-2.06-.94 2.06-2.06.94z\"/><path d=\"M17.41 7.96l-1.37-1.37c-.4-.4-.92-.59-1.43-.59-.52 0-1.04.2-1.43.59L10.3 9.45l-7.72 7.72c-.78.78-.78 2.05 0 2.83L4 21.41c.39.39.9.59 1.41.59.51 0 1.02-.2 1.41-.59l7.78-7.78 2.81-2.81c.8-.78.8-2.07 0-2.86zM5.41 20L4 18.59l7.72-7.72 1.47 1.35L5.41 20z\"/>\n",
              "  </svg>\n",
              "      </button>\n",
              "      \n",
              "  <style>\n",
              "    .colab-df-container {\n",
              "      display:flex;\n",
              "      flex-wrap:wrap;\n",
              "      gap: 12px;\n",
              "    }\n",
              "\n",
              "    .colab-df-convert {\n",
              "      background-color: #E8F0FE;\n",
              "      border: none;\n",
              "      border-radius: 50%;\n",
              "      cursor: pointer;\n",
              "      display: none;\n",
              "      fill: #1967D2;\n",
              "      height: 32px;\n",
              "      padding: 0 0 0 0;\n",
              "      width: 32px;\n",
              "    }\n",
              "\n",
              "    .colab-df-convert:hover {\n",
              "      background-color: #E2EBFA;\n",
              "      box-shadow: 0px 1px 2px rgba(60, 64, 67, 0.3), 0px 1px 3px 1px rgba(60, 64, 67, 0.15);\n",
              "      fill: #174EA6;\n",
              "    }\n",
              "\n",
              "    [theme=dark] .colab-df-convert {\n",
              "      background-color: #3B4455;\n",
              "      fill: #D2E3FC;\n",
              "    }\n",
              "\n",
              "    [theme=dark] .colab-df-convert:hover {\n",
              "      background-color: #434B5C;\n",
              "      box-shadow: 0px 1px 3px 1px rgba(0, 0, 0, 0.15);\n",
              "      filter: drop-shadow(0px 1px 2px rgba(0, 0, 0, 0.3));\n",
              "      fill: #FFFFFF;\n",
              "    }\n",
              "  </style>\n",
              "\n",
              "      <script>\n",
              "        const buttonEl =\n",
              "          document.querySelector('#df-58d9a17e-17cf-44ae-97d9-b6a9785381b2 button.colab-df-convert');\n",
              "        buttonEl.style.display =\n",
              "          google.colab.kernel.accessAllowed ? 'block' : 'none';\n",
              "\n",
              "        async function convertToInteractive(key) {\n",
              "          const element = document.querySelector('#df-58d9a17e-17cf-44ae-97d9-b6a9785381b2');\n",
              "          const dataTable =\n",
              "            await google.colab.kernel.invokeFunction('convertToInteractive',\n",
              "                                                     [key], {});\n",
              "          if (!dataTable) return;\n",
              "\n",
              "          const docLinkHtml = 'Like what you see? Visit the ' +\n",
              "            '<a target=\"_blank\" href=https://colab.research.google.com/notebooks/data_table.ipynb>data table notebook</a>'\n",
              "            + ' to learn more about interactive tables.';\n",
              "          element.innerHTML = '';\n",
              "          dataTable['output_type'] = 'display_data';\n",
              "          await google.colab.output.renderOutput(dataTable, element);\n",
              "          const docLink = document.createElement('div');\n",
              "          docLink.innerHTML = docLinkHtml;\n",
              "          element.appendChild(docLink);\n",
              "        }\n",
              "      </script>\n",
              "    </div>\n",
              "  </div>\n",
              "  "
            ]
          },
          "metadata": {},
          "execution_count": 4
        }
      ]
    },
    {
      "cell_type": "markdown",
      "source": [
        "Con esto en mente pasemos a ver cada variable en particular:"
      ],
      "metadata": {
        "id": "9J4Bzbsp7nvT"
      }
    },
    {
      "cell_type": "markdown",
      "source": [
        "###5.1.1. Estadistica Descriptiva de la Variable Monto de Recuperacion Esperado:\n",
        "Para poder hacer un estudio estadistico descriptivo de esta variable, notese que esta es de tipo `int64` con lo cual de dicha variable es de tipo Cuantitativa Discreta y podremos realizar las medidas de Tendencia, Dispersion y Posicion de `XX.describe()`; Sin embargo, esta información puede parecer insuficiente, en ese caso podremos tomar otras medidas:"
      ],
      "metadata": {
        "id": "H3yeT8-V7y-6"
      }
    },
    {
      "cell_type": "code",
      "source": [
        "# Mediana (Medida de Tendencia Central)\n",
        "mediana_MRE = median(Datos.monto_de_recuperacion_esperado)\n",
        "print(mediana_MRE)"
      ],
      "metadata": {
        "colab": {
          "base_uri": "https://localhost:8080/"
        },
        "id": "LK93iQWRQR7o",
        "outputId": "9241794a-9f64-4f9f-e3ef-f55f00be187c"
      },
      "execution_count": null,
      "outputs": [
        {
          "output_type": "stream",
          "name": "stdout",
          "text": [
            "2062.0\n"
          ]
        }
      ]
    },
    {
      "cell_type": "code",
      "source": [
        "# Moda (Medida de Tendencia Central):\n",
        "moda_MRE = sci.stats.mode(Datos.monto_de_recuperacion_esperado)\n",
        "print(moda_MRE)"
      ],
      "metadata": {
        "colab": {
          "base_uri": "https://localhost:8080/"
        },
        "id": "Pc1o7XV2LlOj",
        "outputId": "059b078a-3ffe-4316-df3c-581436acd84b"
      },
      "execution_count": null,
      "outputs": [
        {
          "output_type": "stream",
          "name": "stdout",
          "text": [
            "ModeResult(mode=array([1386]), count=array([5]))\n"
          ]
        }
      ]
    },
    {
      "cell_type": "markdown",
      "source": [
        "La moda de este conjunto de datos numéricos es el valor que más se repite, es decir, el que tiene el mayor número de frecuencias absolutas. En este caso el valor que más se repite es 1386 con 5 apariciones."
      ],
      "metadata": {
        "id": "DH3u7igzaG9F"
      }
    },
    {
      "cell_type": "markdown",
      "source": [
        "Otras Medidas de Tendencia Central que nos pueden ser de utilidad, si por ejemplo, no nos sirve la Media Aritmetica, son los siguientes:"
      ],
      "metadata": {
        "id": "xx1KVebRTxdU"
      }
    },
    {
      "cell_type": "code",
      "source": [
        "# Centro de Amplitud:\n",
        "centroA_MRE = (max(Datos.monto_de_recuperacion_esperado)+min(Datos.monto_de_recuperacion_esperado))/2 \n",
        "print(centroA_MRE)"
      ],
      "metadata": {
        "colab": {
          "base_uri": "https://localhost:8080/"
        },
        "id": "xaZdh91WW-iw",
        "outputId": "19a98ea6-df8d-4ed9-a132-cf804cfd7b03"
      },
      "execution_count": null,
      "outputs": [
        {
          "output_type": "stream",
          "name": "stdout",
          "text": [
            "5079.0\n"
          ]
        }
      ]
    },
    {
      "cell_type": "markdown",
      "source": [
        "Este es el valor que queda en medio de los valores mínimo y máximo.\n"
      ],
      "metadata": {
        "id": "vYEP6HXMagjA"
      }
    },
    {
      "cell_type": "markdown",
      "source": [
        "Notese que no incluimos la *Media Ponderada* pues no poseemos informacion especifica sobre la importancia de cada cliente (Uno podria ser los **Niveles de la Estrategia de Recuperacion** pero en esta parte aun hablamos solo de *Variables Unidimensionales*). \n",
        "\n",
        "Tambien podremos tomar otras Medidas de Dispersion que nos den una idea de que tan representativos son los de Tendencia Central:  "
      ],
      "metadata": {
        "id": "UmQjMgHwX6wf"
      }
    },
    {
      "cell_type": "code",
      "source": [
        "# Rango:\n",
        "Rango_MRE = max(Datos.monto_de_recuperacion_esperado)-min(Datos.monto_de_recuperacion_esperado)\n",
        "print(Rango_MRE)"
      ],
      "metadata": {
        "colab": {
          "base_uri": "https://localhost:8080/"
        },
        "id": "d-sUMRaqYDzJ",
        "outputId": "d9e199a9-3fc2-4822-dc32-2c3360403c0e"
      },
      "execution_count": null,
      "outputs": [
        {
          "output_type": "stream",
          "name": "stdout",
          "text": [
            "9770\n"
          ]
        }
      ]
    },
    {
      "cell_type": "markdown",
      "source": [
        "El rango de una distribución es la diferencia entre el valor máximo y el valor mínimo de la variable estadística. En este caso nuestra variable estadística es \"monto_de_recuperacion_esperado\", el cual tiene un rango de 9770. "
      ],
      "metadata": {
        "id": "OPt9Nm91b3sZ"
      }
    },
    {
      "cell_type": "markdown",
      "source": [
        "Otras Medidas de Posicion:"
      ],
      "metadata": {
        "id": "TqrYpES-Zgog"
      }
    },
    {
      "cell_type": "code",
      "source": [
        "# La Varianza:\n",
        "Var_MRE = np.std(Datos.monto_de_recuperacion_esperado)**2\n",
        "print(Var_MRE)"
      ],
      "metadata": {
        "colab": {
          "base_uri": "https://localhost:8080/"
        },
        "id": "KUKw382sgHJx",
        "outputId": "6cc9ffd0-9c04-4987-ed69-f9c18c3105da"
      },
      "execution_count": null,
      "outputs": [
        {
          "output_type": "stream",
          "name": "stdout",
          "text": [
            "4077531.605219366\n"
          ]
        }
      ]
    },
    {
      "cell_type": "markdown",
      "source": [
        "La varianza mide la mayor o menor dispersión de los valores de la variable respecto a la media aritmética. Cuanto mayor sea la varianza mayor dispersión existirá y por tanto, menor representatividad tendrá la media aritmética."
      ],
      "metadata": {
        "id": "MXyaTR1ycP_t"
      }
    },
    {
      "cell_type": "code",
      "source": [
        "# Coeficiente de Variacion:\n",
        "CVar_MRE = np.std(Datos.monto_de_recuperacion_esperado)/np.mean(Datos.monto_de_recuperacion_esperado)*100\n",
        "print(CVar_MRE,\"%\")"
      ],
      "metadata": {
        "colab": {
          "base_uri": "https://localhost:8080/"
        },
        "id": "e_rx7CVzg4aC",
        "outputId": "5c52b7bb-3cbe-4c09-8000-cf949542e13e"
      },
      "execution_count": null,
      "outputs": [
        {
          "output_type": "stream",
          "name": "stdout",
          "text": [
            "73.16353588681146 %\n"
          ]
        }
      ]
    },
    {
      "cell_type": "markdown",
      "source": [
        "El coeficiente de variación de Pearson que se define como el cociente entre la desviación estándar y el valor absoluto de la media aritmética. Este coeficiente, representa el porcentaje que la desviación estándar contiene a la media aritmética y por lo tanto cuanto mayor es el coeficiente de variación mayor es la dispersión y menor la representatividad de la media. "
      ],
      "metadata": {
        "id": "2fPX_I3HdZJj"
      }
    },
    {
      "cell_type": "markdown",
      "source": [
        "Ahora Bien, despues de obtener toda esta información estadistica, demos una pequeña visualización a través de una gráfica:\n",
        "\n",
        "La siguiente se trata de la Grafica de Densidad de la variable Monto de Recuperación Esperado:"
      ],
      "metadata": {
        "id": "EEKrFLVljaQ0"
      }
    },
    {
      "cell_type": "code",
      "source": [
        "Datos.monto_de_recuperacion_esperado.plot.density(color='black', figsize = (20,15), fontsize=15) \n",
        "\n",
        "#Mediana(Azul clarito)\n",
        "x_1=[2062, 2062]\n",
        "y_1=[0,0.000243]\n",
        "l1= plt.plot(x_1,y_1, color=\"deepskyblue\")\n",
        "\n",
        "#Media(Azul detergente)\n",
        "x_2=[2759.967588, 2759.967588]\n",
        "y_2=[0,0.000166]\n",
        "l2= plt.plot(x_2,y_2)\n",
        "\n",
        "#Moda(Azul Oscuro)\n",
        "x_3=[1386, 1386]\n",
        "y_3=[0,0.000335]\n",
        "plt.plot(x_3,y_3, color=\"navy\") \n",
        "\n",
        "plt.xlim(-2500,12500)\n",
        "plt.ylim(0,0.00035)\n",
        "plt.legend([\"Densidad\",\"Mediana\",\"Media\",\"Moda\"],loc=\"upper right\") \n",
        "plt.rc('legend',fontsize=20)\n",
        "\n",
        "plt.title(\"Densidad del Monto de Recuperación Esperado\",fontsize=25)\n",
        "\n",
        "plt.show()\n"
      ],
      "metadata": {
        "colab": {
          "base_uri": "https://localhost:8080/",
          "height": 895
        },
        "id": "1Iy6QfyfWnbY",
        "outputId": "63855980-8a16-4363-809a-81012ee23de2"
      },
      "execution_count": null,
      "outputs": [
        {
          "output_type": "display_data",
          "data": {
            "text/plain": [
              "<Figure size 1440x1080 with 1 Axes>"
            ],
            "image/png": "[encoded data removed]"
          },
          "metadata": {
            "needs_background": "light"
          }
        }
      ]
    },
    {
      "cell_type": "markdown",
      "source": [
        "De dicha gráfica, se puede inferir que el Banco, espera que la gran mayoria de montos que esperan recuperar estan entre 0 y 4000 Unidades Monetarias, apesar de ello tambien se puede ver que los montos superiores a estos no pueden ser ignorados.\n",
        "\n",
        "\n",
        "Tambien podremos observar la Gráfica de Caja del Monto de Recuperación Esperado:"
      ],
      "metadata": {
        "id": "rJHQ5GA0Zldt"
      }
    },
    {
      "cell_type": "code",
      "source": [
        "fig = plt.figure(figsize =(15, 10)) \n",
        "plt.boxplot(Datos['monto_de_recuperacion_esperado'])\n",
        "\n",
        "#Mediana(Azul clarito)\n",
        "x_1=[0.75,1.25]\n",
        "y_1=[2062,2062]\n",
        "l1= plt.plot(x_1,y_1, color=\"deepskyblue\", label=\"Mediana\")\n",
        "\n",
        "#Media(Azul detergente)\n",
        "y_2=[2759.967588, 2759.967588]\n",
        "x_2=[0.75,1.25]\n",
        "l2= plt.plot(x_2,y_2, label=\"Media\")\n",
        "\n",
        "#Moda(Azul oscuro)\n",
        "y_3=[1386, 1386]\n",
        "x_3=[0.75,1.25]\n",
        "plt.plot(x_3,y_3, color=\"navy\", label=\"Moda\")\n",
        "\n",
        "\n",
        "plt.rc('legend',fontsize=20)\n",
        "plt.legend( loc=\"upper right\") \n",
        "\n",
        "plt.title(\"Disgrama de Caja Monto de Recuperación Esperado\",fontsize=25)\n",
        "plt.show() "
      ],
      "metadata": {
        "colab": {
          "base_uri": "https://localhost:8080/",
          "height": 618
        },
        "id": "vNseAffmYrBs",
        "outputId": "6d14339a-bbac-4f5d-8b08-d0109e74a39f"
      },
      "execution_count": null,
      "outputs": [
        {
          "output_type": "display_data",
          "data": {
            "text/plain": [
              "<Figure size 1080x720 with 1 Axes>"
            ],
            "image/png": "[encoded data removed]"
          },
          "metadata": {
            "needs_background": "light"
          }
        }
      ]
    },
    {
      "cell_type": "markdown",
      "source": [
        "Esta gráfica no solo confirma la acumulación de individuos en los que espera el Banco devuelva el monto alrededor de 0 a 4000, tambien hace evidente que no prodremos descartar los puntos atipicos."
      ],
      "metadata": {
        "id": "Nl-ejLePbDpc"
      }
    },
    {
      "cell_type": "markdown",
      "source": [
        "###5.1.2. Estadistica Descriptiva de la Variable Monto de Recuperacion Real:\n",
        "Esta variable es de tipo `float64` o según nuestra clasificación estadistica es Cuantitativa Continua con lo cual pudimos obtener las Medidas Centrales, de Dispersion y de Posición de `XX.describe()`, además de aquellas, podemos tomar otras medidas de esos 3 tipos, empezando por la mas común aparte de la media y mediana:"
      ],
      "metadata": {
        "id": "hV6u2vxq_11x"
      }
    },
    {
      "cell_type": "code",
      "source": [
        "# Mediana (Medida de Tendencia Central)\n",
        "mediana_MRR = median(Datos.monto_de_recuperacion_real)\n",
        "print(mediana_MRR)"
      ],
      "metadata": {
        "colab": {
          "base_uri": "https://localhost:8080/"
        },
        "id": "6Vb6OZ6JFnYQ",
        "outputId": "e5df864a-6d55-4013-d4ef-5861cbf27620"
      },
      "execution_count": null,
      "outputs": [
        {
          "output_type": "stream",
          "name": "stdout",
          "text": [
            "2115.4463725\n"
          ]
        }
      ]
    },
    {
      "cell_type": "code",
      "source": [
        "# Moda (Medida de Tendencia Central):\n",
        "moda_MRR = sci.stats.mode(Datos.monto_de_recuperacion_real)\n",
        "print(moda_MRR)"
      ],
      "metadata": {
        "colab": {
          "base_uri": "https://localhost:8080/"
        },
        "id": "ujXJDSchQ5Ka",
        "outputId": "99ef47da-695e-4329-bd2c-e27e02458766"
      },
      "execution_count": null,
      "outputs": [
        {
          "output_type": "stream",
          "name": "stdout",
          "text": [
            "ModeResult(mode=array([200.425]), count=array([1]))\n"
          ]
        }
      ]
    },
    {
      "cell_type": "markdown",
      "source": [
        "Otras Medidas de Tendencia Central:"
      ],
      "metadata": {
        "id": "eyLTk8UdTMKD"
      }
    },
    {
      "cell_type": "code",
      "source": [
        "# Centro de Amplitud:\n",
        "centroA_MRR = (max(Datos.monto_de_recuperacion_real)+min(Datos.monto_de_recuperacion_real))/2 \n",
        "print(centroA_MRR)"
      ],
      "metadata": {
        "colab": {
          "base_uri": "https://localhost:8080/"
        },
        "id": "nJOwbt4FVZ2A",
        "outputId": "52166284-52e9-414d-a745-cfcc864c2f57"
      },
      "execution_count": null,
      "outputs": [
        {
          "output_type": "stream",
          "name": "stdout",
          "text": [
            "17299.452355\n"
          ]
        }
      ]
    },
    {
      "cell_type": "markdown",
      "source": [
        "Notese que no incluimos la *Media Ponderada* pues no poseemos informacion especifica sobre la importancia de cada cliente (Uno podria ser los **Niveles de la Estrategia de Recuperacion** pero en esta parte aun hablamos solo de *Variables Unidimensionales*). \n",
        "\n",
        "Tambien podremos tomar otras Medidas de Dispersion que nos den una idea de que tan representativos son los de Tendencia Central:  "
      ],
      "metadata": {
        "id": "sZ441mqMVwyT"
      }
    },
    {
      "cell_type": "code",
      "source": [
        "# Rango:\n",
        "Rango_MRR = max(Datos.monto_de_recuperacion_real)-min(Datos.monto_de_recuperacion_real)\n",
        "print(Rango_MRR)"
      ],
      "metadata": {
        "colab": {
          "base_uri": "https://localhost:8080/"
        },
        "id": "ECMgWQCqVyGx",
        "outputId": "0241df23-ab8d-4dde-ba26-a8179123134c"
      },
      "execution_count": null,
      "outputs": [
        {
          "output_type": "stream",
          "name": "stdout",
          "text": [
            "34198.05471\n"
          ]
        }
      ]
    },
    {
      "cell_type": "markdown",
      "source": [
        "Otras Medidas de Posición:"
      ],
      "metadata": {
        "id": "Jd3yFMHHWqLs"
      }
    },
    {
      "cell_type": "code",
      "source": [
        "# La Varianza:\n",
        "Var_MRR = np.std(Datos.monto_de_recuperacion_real)**2\n",
        "print(Var_MRR)"
      ],
      "metadata": {
        "colab": {
          "base_uri": "https://localhost:8080/"
        },
        "id": "65UbwLQQaTS6",
        "outputId": "998e2c8a-9104-4326-839c-1547ce6d92cc"
      },
      "execution_count": null,
      "outputs": [
        {
          "output_type": "stream",
          "name": "stdout",
          "text": [
            "20933281.567631625\n"
          ]
        }
      ]
    },
    {
      "cell_type": "code",
      "source": [
        "# Coeficiente de Variacion:\n",
        "# El coeficiente en este caso es extraño pues sobrepasa el 100%\n",
        "CVar_MRR = np.std(Datos.monto_de_recuperacion_real)/np.mean(Datos.monto_de_recuperacion_real)*100\n",
        "print(CVar_MRR,\"%\")"
      ],
      "metadata": {
        "colab": {
          "base_uri": "https://localhost:8080/"
        },
        "id": "MpYlVjD9aeCS",
        "outputId": "0aaf47cc-f063-45f8-bf6b-9612b57e54ac"
      },
      "execution_count": null,
      "outputs": [
        {
          "output_type": "stream",
          "name": "stdout",
          "text": [
            "114.35458899641793 %\n"
          ]
        }
      ]
    },
    {
      "cell_type": "markdown",
      "source": [
        "Despues de mostrar esta información estadistica, veamos como podemos representar los datos de esta variable graficamente.\n",
        "\n",
        "La siguiente se trata de la Grafica de Densidad de la variable Monto de Recuperación Real:"
      ],
      "metadata": {
        "id": "AbJR_ctpegL9"
      }
    },
    {
      "cell_type": "code",
      "source": [
        "Datos.monto_de_recuperacion_real.plot.density(color='black', figsize = (20,15)) \n",
        "\n",
        "#Mediana(Azul clarito)\n",
        "x_1=[2115.4463725, 2115.4463725]\n",
        "y_1=[0,0.000165]\n",
        "l1= plt.plot(x_1,y_1, color=\"deepskyblue\")\n",
        "\n",
        "#Media(Azul detergente)\n",
        "x_2=[4000.967837\t, 4000.967837\t]\n",
        "y_2=[0,0.0000705]\n",
        "l2= plt.plot(x_2,y_2)\n",
        "\n",
        "#Moda(Azul oscuro)\n",
        "x_3=[200.425, 200.42]\n",
        "y_3=[0,0.000130]\n",
        "plt.plot(x_3,y_3, color=\"navy\") \n",
        "\n",
        "plt.xlim(-10000,50000)\n",
        "plt.ylim(0,0.00021)\n",
        "\n",
        "plt.rc('legend',fontsize=20)\n",
        "\n",
        "plt.legend([\"Densidad\",\"Mediana\",\"Media\",\"Moda\"],loc=\"upper right\") \n",
        "\n",
        "plt.title(\"Densidad del Monto de Recuperación Real\")\n",
        "plt.show()"
      ],
      "metadata": {
        "colab": {
          "base_uri": "https://localhost:8080/"
        },
        "id": "bAp-O2Umq2M7",
        "outputId": "028f441c-4b0e-4bf6-9bd8-05c435769d4d"
      },
      "execution_count": null,
      "outputs": [
        {
          "output_type": "display_data",
          "data": {
            "text/plain": [
              "<Figure size 1440x1080 with 1 Axes>"
            ],
            "image/png": "[encoded data removed]"
          },
          "metadata": {
            "needs_background": "light"
          }
        }
      ]
    },
    {
      "cell_type": "markdown",
      "source": [
        "Prosiguiendo con el análisis podremos observar que la recuperación de dinero real se encuentra sobretodo en montos de entre 0 y 5000 Unidades Monetarias , o lo que es igual, al compararlo con el gráfico de Densidad del monto de recuperación esperado por el Banco, este posee un error en la prediccion de tendencia central de aproximadamente 1000 Unidades Monetarias, además claro la cola de la Densidad del monto real en este caso SI es despreciable.\n",
        "\n",
        "Tambien podremos realizar el Gráfico de Caja para esta variable:"
      ],
      "metadata": {
        "id": "XdoDHkQ6d0g0"
      }
    },
    {
      "cell_type": "code",
      "source": [
        "fig = plt.figure(figsize =(15, 10)) \n",
        "plt.boxplot(Datos['monto_de_recuperacion_real'])\n",
        "\n",
        "#Mediana(Azul clarito)\n",
        "\n",
        "x_1=[0.75,1.25]\n",
        "y_1=[2115.4463725,2115.4463725]\n",
        "l1 = plt.plot(x_1,y_1, color=\"deepskyblue\", label = \"Mediana\")\n",
        "\n",
        "#Media(Azul detergente)\n",
        "\n",
        "y_2=[4000.967837, 4000.967837]\n",
        "x_2=[0.75,1.25]\n",
        "l2 = plt.plot(x_2,y_2, label = \"Media\")\n",
        "\n",
        "#Moda(Azul oscuro)\n",
        "\n",
        "y_3=[200.425, 200.425]\n",
        "x_3=[0.75,1.25]\n",
        "plt.plot(x_3,y_3, color=\"navy\", label = \"Moda\")\n",
        "\n",
        "\n",
        "plt.rc('legend',fontsize=20)\n",
        "plt.legend( loc=\"upper right\") \n",
        "\n",
        "plt.title(\"Densidad del Monto de Recuperación Real\",fontsize=25)\n",
        "plt.show() "
      ],
      "metadata": {
        "colab": {
          "base_uri": "https://localhost:8080/"
        },
        "id": "EWgMAmw2GlUv",
        "outputId": "813d0cf7-7f56-4aad-ce17-ea1a39ee1f7f"
      },
      "execution_count": null,
      "outputs": [
        {
          "output_type": "display_data",
          "data": {
            "text/plain": [
              "<Figure size 1080x720 with 1 Axes>"
            ],
            "image/png": "[encoded data removed]"
          },
          "metadata": {
            "needs_background": "light"
          }
        }
      ]
    },
    {
      "cell_type": "markdown",
      "source": [
        "Esta Gráfica puede ser engañosa, pues los extremos superior e inferior realmente no son realmente representativos de la Tendencia Central; cuyo intervalo es algo mayor, lo que a su vez explica la gran cantidad de Puntos Atipicos entre los 10000 y los 20000."
      ],
      "metadata": {
        "id": "RK2i0uwAhSyL"
      }
    },
    {
      "cell_type": "markdown",
      "source": [
        "### Análisis de la gráfica"
      ],
      "metadata": {
        "id": "1txa7vN6GvjH"
      }
    },
    {
      "cell_type": "markdown",
      "source": [
        "###5.1.3. Estadistica Descriptiva de la Variable Estrategia de Recuperacion:\n",
        "Esta variable, según el comando `Datos.info()` es de tipo `object` esto significa que se trata de una cadena de simbolos alfa-numericos; es por ello que el comando `Datos.describe()` no nos provee informacion de la misma.\n",
        "\n",
        "Por lo que debemos usar esta misma función especificamente para esta variable:"
      ],
      "metadata": {
        "id": "rnkARa1lAWGw"
      }
    },
    {
      "cell_type": "code",
      "source": [
        "Datos.estrategia_de_recuperacion.describe()"
      ],
      "metadata": {
        "colab": {
          "base_uri": "https://localhost:8080/"
        },
        "id": "dvlLr71l9_Pi",
        "outputId": "b20b5db8-8df2-4248-e220-ab582b34768a"
      },
      "execution_count": null,
      "outputs": [
        {
          "output_type": "execute_result",
          "data": {
            "text/plain": [
              "count                        1882\n",
              "unique                          5\n",
              "top       Nivel 1 de Recuperacion\n",
              "freq                          670\n",
              "Name: estrategia_de_recuperacion, dtype: object"
            ]
          },
          "metadata": {},
          "execution_count": 21
        }
      ]
    },
    {
      "cell_type": "markdown",
      "source": [
        "La tabla de arriba nos provee de toda la información estadistica que podemos obtener de la variable **Estrategia de Recuperación** (Al menos por ahora pues solo tratamos con *Variables Unidimensionales*), asi que es importante revisar cuales son, de aquellos que no conocemos:\n",
        "\n",
        "\n",
        "*   **unique:** Son la lista de categorias Cualitativas que se le pueden asignar a los datos de esta variable, en este caso son 5, las cuales se tratan de las 5 Estrategias de Recuperación (de 0 a 4) cuyas diferenciacion categorica ya se explico en la parte de *Datos del Proyecto*. \n",
        "*   **top:** La *Moda* (Medida de Tendencia Central), que por su definición tambien es aplicable a las Variables Cualitativas, en este caso se trata del *Nivel de Recuperación 1*.\n",
        "*   **freq:** La cantidad de veces que se repite el dato que es la Moda, para esta variable este se repite 670 veces."
      ],
      "metadata": {
        "id": "F7u3hYRI-TKZ"
      }
    },
    {
      "cell_type": "markdown",
      "source": [
        "Otro dato estadistico que podemos tomar de esta variable son las *Proporciones* de cada categoria, y para calcularlos, nos serviremos de algunos algoritmos, como sigue:"
      ],
      "metadata": {
        "id": "wy8qJdgNAYVJ"
      }
    },
    {
      "cell_type": "markdown",
      "source": [
        "Proporcion del Nivel 0 de las Estrategias de Recuperación:"
      ],
      "metadata": {
        "id": "RuScxx_GG644"
      }
    },
    {
      "cell_type": "code",
      "source": [
        "DataE=np.array(Datos.estrategia_de_recuperacion)\n",
        "DataEst=DataE.transpose()\n",
        "# Numero de Elementos del Nivel 0 de Estrategia de Recuperación\n",
        "for index,k in enumerate(DataEst):\n",
        "  if k=='Nivel 0 de Recuperacion':\n",
        "    DataEst[index]=1\n",
        "  else:\n",
        "    DataEst[index]=0\n",
        "\n",
        "Num_Nivel_0=0\n",
        "for N0 in DataEst:\n",
        "  Num_Nivel_0 += N0\n",
        "\n",
        "print(Num_Nivel_0)\n",
        "\n",
        "# Proporcion de elementos del Nivel 0 de Estrategia de Recuperación\n",
        "Prop_Nivel_0 = Num_Nivel_0/len(Datos.estrategia_de_recuperacion)*100\n",
        "print(Prop_Nivel_0,\"%\")"
      ],
      "metadata": {
        "colab": {
          "base_uri": "https://localhost:8080/"
        },
        "id": "wuK_0X64G6Mc",
        "outputId": "f08fce39-ea5c-4e9f-c932-543b5d88783b"
      },
      "execution_count": null,
      "outputs": [
        {
          "output_type": "stream",
          "name": "stdout",
          "text": [
            "247\n",
            "13.12433581296493 %\n"
          ]
        }
      ]
    },
    {
      "cell_type": "markdown",
      "source": [
        "Proporción del Nivel 1 de las Estrategias de Recuperación:"
      ],
      "metadata": {
        "id": "A3UISWaYJYGR"
      }
    },
    {
      "cell_type": "code",
      "source": [
        "DataE=np.array(Datos.estrategia_de_recuperacion)\n",
        "DataEst=DataE.transpose()\n",
        "\n",
        "# Numero de Elementos del Nivel 1 de Estrategia de Recuperación\n",
        "for index,k in enumerate(DataEst):\n",
        "  if k=='Nivel 1 de Recuperacion':\n",
        "    DataEst[index]=1\n",
        "  else:\n",
        "    DataEst[index]=0\n",
        "\n",
        "Num_Nivel_1=0\n",
        "for N1 in DataEst:\n",
        "  Num_Nivel_1 += N1\n",
        "\n",
        "print(Num_Nivel_1)\n",
        "\n",
        "# Proporcion de elementos Nivel 1 en Estrategia de Recuperación\n",
        "Prop_Nivel_1 = Num_Nivel_1/len(Datos.estrategia_de_recuperacion)*100\n",
        "print(Prop_Nivel_1,\"%\")"
      ],
      "metadata": {
        "colab": {
          "base_uri": "https://localhost:8080/"
        },
        "id": "WuVT8sI1Jjpq",
        "outputId": "d126a78c-18a9-4f05-e8c8-6e7e61ec01c1"
      },
      "execution_count": null,
      "outputs": [
        {
          "output_type": "stream",
          "name": "stdout",
          "text": [
            "670\n",
            "35.60042507970245 %\n"
          ]
        }
      ]
    },
    {
      "cell_type": "markdown",
      "source": [
        "Proporción del Nivel 2 de las Estrategias de Recuperación:"
      ],
      "metadata": {
        "id": "Om5o19DoLBdF"
      }
    },
    {
      "cell_type": "code",
      "source": [
        "DataE=np.array(Datos.estrategia_de_recuperacion)\n",
        "DataEst=DataE.transpose()\n",
        "\n",
        "# Numero de Elementos del Nivel 2 de Estrategia de Recuperación\n",
        "for index,k in enumerate(DataEst):\n",
        "  if k=='Nivel 2 de Recuperacion':\n",
        "    DataEst[index]=1\n",
        "  else:\n",
        "    DataEst[index]=0\n",
        "\n",
        "Num_Nivel_2=0\n",
        "for N2 in DataEst:\n",
        "  Num_Nivel_2 += N2\n",
        "\n",
        "print(Num_Nivel_2)\n",
        "\n",
        "# Proporcion de elementos Nivel 2 en Estrategia de Recuperación\n",
        "Prop_Nivel_2 = Num_Nivel_2/len(Datos.estrategia_de_recuperacion)*100\n",
        "print(Prop_Nivel_2,\"%\")"
      ],
      "metadata": {
        "colab": {
          "base_uri": "https://localhost:8080/"
        },
        "id": "OdoMjz7BLJ0Y",
        "outputId": "2a102f7c-c36b-4251-cb56-0c39c55efeda"
      },
      "execution_count": null,
      "outputs": [
        {
          "output_type": "stream",
          "name": "stdout",
          "text": [
            "333\n",
            "17.69394261424017 %\n"
          ]
        }
      ]
    },
    {
      "cell_type": "markdown",
      "source": [
        "Proporción del Nivel 3 de las Estrategias de Recuperación:"
      ],
      "metadata": {
        "id": "PZO91xV0LzIV"
      }
    },
    {
      "cell_type": "code",
      "source": [
        "DataE=np.array(Datos.estrategia_de_recuperacion)\n",
        "DataEst=DataE.transpose()\n",
        "\n",
        "# Numero de Elementos del Nivel 3 de Estrategia de Recuperación\n",
        "for index,k in enumerate(DataEst):\n",
        "  if k=='Nivel 3 de Recuperacion':\n",
        "    DataEst[index]=1\n",
        "  else:\n",
        "    DataEst[index]=0\n",
        "\n",
        "Num_Nivel_3=0\n",
        "for N3 in DataEst:\n",
        "  Num_Nivel_3 += N3\n",
        "\n",
        "print(Num_Nivel_3)\n",
        "\n",
        "# Proporcion de elementos Nivel 2 en Estrategia de Recuperación\n",
        "Prop_Nivel_3 = Num_Nivel_3/len(Datos.estrategia_de_recuperacion)*100\n",
        "print(Prop_Nivel_3,\"%\")"
      ],
      "metadata": {
        "colab": {
          "base_uri": "https://localhost:8080/"
        },
        "id": "-2jdmweyL7r8",
        "outputId": "43b55922-5f3b-4823-e6d4-c56e1843fd3a"
      },
      "execution_count": null,
      "outputs": [
        {
          "output_type": "stream",
          "name": "stdout",
          "text": [
            "368\n",
            "19.55366631243358 %\n"
          ]
        }
      ]
    },
    {
      "cell_type": "markdown",
      "source": [
        "Proporción de Nivel 4 de las Estrategias de Recuperación:"
      ],
      "metadata": {
        "id": "zfUrVTHnMSQ-"
      }
    },
    {
      "cell_type": "code",
      "source": [
        "DataE=np.array(Datos.estrategia_de_recuperacion)\n",
        "DataEst=DataE.transpose()\n",
        "\n",
        "# Numero de Elementos del Nivel 4 de Estrategia de Recuperación\n",
        "for index,k in enumerate(DataEst):\n",
        "  if k=='Nivel 4 de Recuperacion':\n",
        "    DataEst[index]=1\n",
        "  else:\n",
        "    DataEst[index]=0\n",
        "\n",
        "Num_Nivel_4=0\n",
        "for N4 in DataEst:\n",
        "  Num_Nivel_4 += N4\n",
        "\n",
        "print(Num_Nivel_4)\n",
        "\n",
        "# Proporcion de elementos Nivel 2 en Estrategia de Recuperación\n",
        "Prop_Nivel_4 = Num_Nivel_4/len(Datos.estrategia_de_recuperacion)*100\n",
        "print(Prop_Nivel_4,\"%\")"
      ],
      "metadata": {
        "colab": {
          "base_uri": "https://localhost:8080/"
        },
        "id": "qCdd3GoxMZ-0",
        "outputId": "20b0d7c8-cee6-4fac-af2b-11e9c56949ab"
      },
      "execution_count": null,
      "outputs": [
        {
          "output_type": "stream",
          "name": "stdout",
          "text": [
            "264\n",
            "14.027630180658873 %\n"
          ]
        }
      ]
    },
    {
      "cell_type": "markdown",
      "source": [
        "Ya con toda esta información estadistica, podemos pasar al análisis por medio de un Historigrama:"
      ],
      "metadata": {
        "id": "jJS4VqGLMsjh"
      }
    },
    {
      "cell_type": "code",
      "source": [
        "colorB=['darkslategray','teal','darkturquoise', 'dodgerblue','steelblue']\n",
        "fig, ax = plt.subplots(figsize =(12, 8))\n",
        "ax.bar(['nivel 0','nivel 1', 'nivel 2', 'nivel 3', 'nivel 4'], [Num_Nivel_0,Num_Nivel_1,Num_Nivel_2,Num_Nivel_3,Num_Nivel_4],color=colorB)\n",
        "ax.set_title('Niveles de estrategia de recuperación',loc = \"left\", fontdict = {'fontsize':14, 'fontweight':'bold'})\n",
        "plt.show()"
      ],
      "metadata": {
        "colab": {
          "base_uri": "https://localhost:8080/"
        },
        "id": "VeABjOKaznAu",
        "outputId": "97e31511-76d3-469b-be33-89f07ca267ca"
      },
      "execution_count": null,
      "outputs": [
        {
          "output_type": "display_data",
          "data": {
            "text/plain": [
              "<Figure size 864x576 with 1 Axes>"
            ],
            "image/png": "[encoded data removed]"
          },
          "metadata": {
            "needs_background": "light"
          }
        }
      ]
    },
    {
      "cell_type": "markdown",
      "source": [
        "De donde se ve que el Banco espera que se recuperen montos, principamente de entre 1000 y 2000 Unidades Monetarias."
      ],
      "metadata": {
        "id": "jDB5BeEdi_2t"
      }
    },
    {
      "cell_type": "markdown",
      "source": [
        "###5.1.4. Estadistica Descriptiva de la Variable Edad:\n",
        "Como podemos observar mas arriba gracias al comando `XX.info()` esta variable es de tipo `int64` con lo cual entra en la categoria de Variable Cuantitativa Discreta y podremos, no solo, obtener la información de `XX.describe()` sino tambien otro tipo de Medidas Estadisticas: "
      ],
      "metadata": {
        "id": "5Uoo9ZW1AhXa"
      }
    },
    {
      "cell_type": "code",
      "source": [
        "# Moda (Medida de Tendencia Central):\n",
        "moda_E = sci.stats.mode(Datos.edad)\n",
        "print(moda_E)"
      ],
      "metadata": {
        "colab": {
          "base_uri": "https://localhost:8080/"
        },
        "id": "fzAhVO4rh-HE",
        "outputId": "a56652d2-cfd6-4189-b502-a5fd5edc4eb5"
      },
      "execution_count": null,
      "outputs": [
        {
          "output_type": "stream",
          "name": "stdout",
          "text": [
            "ModeResult(mode=array([33]), count=array([82]))\n"
          ]
        }
      ]
    },
    {
      "cell_type": "markdown",
      "source": [
        "Otras Medidas de Tendencia Central:"
      ],
      "metadata": {
        "id": "jApfEM_wjVQL"
      }
    },
    {
      "cell_type": "code",
      "source": [
        "# Centro de Amplitud:\n",
        "centroA_E = (max(Datos.edad)+min(Datos.edad))/2 \n",
        "print(centroA_E)"
      ],
      "metadata": {
        "colab": {
          "base_uri": "https://localhost:8080/"
        },
        "id": "D3x0PVBbk-oo",
        "outputId": "f22d717f-cc92-4f79-f498-710b96f96681"
      },
      "execution_count": null,
      "outputs": [
        {
          "output_type": "stream",
          "name": "stdout",
          "text": [
            "51.0\n"
          ]
        }
      ]
    },
    {
      "cell_type": "markdown",
      "source": [
        "Notese que no incluimos la *Media Ponderada* pues no poseemos informacion especifica sobre la importancia de cada cliente (Uno podria ser los **Niveles de la Estrategia de Recuperacion** pero en esta parte aun hablamos solo de *Variables Unidimensionales*). \n",
        "\n",
        "Tambien podremos tomar otras Medidas de Dispersion que nos den una idea de que tan representativos son los de Tendencia Central:  "
      ],
      "metadata": {
        "id": "zkaXFQNvlktn"
      }
    },
    {
      "cell_type": "code",
      "source": [
        "# Rango:\n",
        "Rango_E = max(Datos.edad)-min(Datos.edad)\n",
        "print(Rango_E)"
      ],
      "metadata": {
        "colab": {
          "base_uri": "https://localhost:8080/"
        },
        "id": "wJaj-n44mQbO",
        "outputId": "65ebe1d3-782d-4f7d-95b0-fb5883a72073"
      },
      "execution_count": null,
      "outputs": [
        {
          "output_type": "stream",
          "name": "stdout",
          "text": [
            "66\n"
          ]
        }
      ]
    },
    {
      "cell_type": "markdown",
      "source": [
        "Otras Medidas de Posición:"
      ],
      "metadata": {
        "id": "P92YKwaTmude"
      }
    },
    {
      "cell_type": "code",
      "source": [
        "# La Varianza:\n",
        "Var_E = np.std(Datos.edad)**2\n",
        "print(Var_E)"
      ],
      "metadata": {
        "colab": {
          "base_uri": "https://localhost:8080/"
        },
        "id": "jtRPkXf0n4-W",
        "outputId": "eda76853-9f42-4390-999f-9b00a1707a7f"
      },
      "execution_count": null,
      "outputs": [
        {
          "output_type": "stream",
          "name": "stdout",
          "text": [
            "238.6705338680333\n"
          ]
        }
      ]
    },
    {
      "cell_type": "code",
      "source": [
        "# Coeficiente de Variacion:\n",
        "CVar_E = np.std(Datos.edad)/np.mean(Datos.edad)*100\n",
        "print(CVar_E,\"%\")"
      ],
      "metadata": {
        "colab": {
          "base_uri": "https://localhost:8080/"
        },
        "id": "7AGvBP-Eo28n",
        "outputId": "d5b7cab0-6227-4f45-e840-44b19decf808"
      },
      "execution_count": null,
      "outputs": [
        {
          "output_type": "stream",
          "name": "stdout",
          "text": [
            "38.96297740722824 %\n"
          ]
        }
      ]
    },
    {
      "cell_type": "markdown",
      "source": [
        "Despues de mostrar esta información estadistica, veamos como podemos representar los datos de esta variable atravez de una gráfica de violin, que sintetiza la información del gráfico de caja y del de densidad:"
      ],
      "metadata": {
        "id": "hFs3XTc2p1M-"
      }
    },
    {
      "cell_type": "markdown",
      "source": [
        "### Clasificación de edad\n",
        "Para corroborar la información, podemos generar un diagrama de barras que muestre de manera clara lo afirmado anteriormente. primero clasificamos las edades por rangos:  "
      ],
      "metadata": {
        "id": "MhdE3gCRoOh7"
      }
    },
    {
      "cell_type": "code",
      "source": [
        "np_edad=np.array(Datos.edad)\n",
        "EdadT=np_edad.transpose()\n",
        "\n",
        "for index,k in enumerate(EdadT):\n",
        "  if 11<=k<=20:\n",
        "    np_edad[index]=1\n",
        "  else:\n",
        "    np_edad[index]=0\n",
        "\n",
        "Edad11_20=0\n",
        "for M in EdadT:\n",
        "  Edad11_20 += M\n",
        "\n",
        "print(Edad11_20)"
      ],
      "metadata": {
        "colab": {
          "base_uri": "https://localhost:8080/"
        },
        "id": "UblRoO3WpZyF",
        "outputId": "2c66e2f5-bfae-4ffc-d5d0-3e0038094a97"
      },
      "execution_count": null,
      "outputs": [
        {
          "output_type": "stream",
          "name": "stdout",
          "text": [
            "108\n"
          ]
        }
      ]
    },
    {
      "cell_type": "code",
      "source": [
        "np_edad2=np.array(Datos.edad)\n",
        "EdadT2=np_edad2.transpose()\n",
        "\n",
        "for index,k in enumerate(EdadT2):\n",
        "  if 21<=k<=30:\n",
        "    np_edad[index]=1\n",
        "  else:\n",
        "    np_edad[index]=0\n",
        "\n",
        "Edad21_30=0\n",
        "for M in EdadT:\n",
        "  Edad21_30 += M\n",
        "\n",
        "\n",
        "print(Edad21_30)"
      ],
      "metadata": {
        "colab": {
          "base_uri": "https://localhost:8080/"
        },
        "id": "13YDSvkPpiKV",
        "outputId": "615fe6a6-6058-4781-fb27-0f21ab22dd0e"
      },
      "execution_count": null,
      "outputs": [
        {
          "output_type": "stream",
          "name": "stdout",
          "text": [
            "520\n"
          ]
        }
      ]
    },
    {
      "cell_type": "code",
      "source": [
        "np_edad3=np.array(Datos.edad)\n",
        "EdadT3=np_edad3.transpose()\n",
        "\n",
        "for index,k in enumerate(EdadT3):\n",
        "  if 31<=k<=40:\n",
        "    np_edad[index]=1\n",
        "  else:\n",
        "    np_edad[index]=0\n",
        "\n",
        "Edad31_40=0\n",
        "for M in EdadT:\n",
        "  Edad31_40 += M\n",
        "\n",
        "\n",
        "print(Edad31_40)"
      ],
      "metadata": {
        "colab": {
          "base_uri": "https://localhost:8080/"
        },
        "id": "8nXkSQYqpn27",
        "outputId": "d3169687-3455-4725-c683-31f8ac0b740c"
      },
      "execution_count": null,
      "outputs": [
        {
          "output_type": "stream",
          "name": "stdout",
          "text": [
            "523\n"
          ]
        }
      ]
    },
    {
      "cell_type": "code",
      "source": [
        "np_edad4=np.array(Datos.edad)\n",
        "EdadT4=np_edad4.transpose()\n",
        "\n",
        "for index,k in enumerate(EdadT4):\n",
        "  if 41<=k<=50:\n",
        "    np_edad[index]=1\n",
        "  else:\n",
        "    np_edad[index]=0\n",
        "\n",
        "Edad41_50=0\n",
        "for M in EdadT:\n",
        "  Edad41_50 += M\n",
        "\n",
        "\n",
        "print(Edad41_50)"
      ],
      "metadata": {
        "colab": {
          "base_uri": "https://localhost:8080/"
        },
        "id": "OKzSJLhAptfd",
        "outputId": "0495125b-1db8-40a1-ab96-c1e60d2714de"
      },
      "execution_count": null,
      "outputs": [
        {
          "output_type": "stream",
          "name": "stdout",
          "text": [
            "276\n"
          ]
        }
      ]
    },
    {
      "cell_type": "code",
      "source": [
        "np_edad5=np.array(Datos.edad)\n",
        "EdadT5=np_edad5.transpose()\n",
        "\n",
        "for index,k in enumerate(EdadT5):\n",
        "  if 51<=k<=60:\n",
        "    np_edad[index]=1\n",
        "  else:\n",
        "    np_edad[index]=0\n",
        "\n",
        "Edad51_60=0\n",
        "for M in EdadT:\n",
        "  Edad51_60 += M\n",
        "\n",
        "\n",
        "print(Edad51_60)"
      ],
      "metadata": {
        "colab": {
          "base_uri": "https://localhost:8080/"
        },
        "id": "JdqZNF_Ap1iK",
        "outputId": "86e37950-8c8a-4f1c-e12a-280fe8766e44"
      },
      "execution_count": null,
      "outputs": [
        {
          "output_type": "stream",
          "name": "stdout",
          "text": [
            "226\n"
          ]
        }
      ]
    },
    {
      "cell_type": "code",
      "source": [
        "np_edad6=np.array(Datos.edad)\n",
        "EdadT6=np_edad6.transpose()\n",
        "\n",
        "for index,k in enumerate(EdadT6):\n",
        "  if 61<=k<=70:\n",
        "    np_edad[index]=1\n",
        "  else:\n",
        "    np_edad[index]=0\n",
        "\n",
        "Edad61_70=0\n",
        "for M in EdadT:\n",
        "  Edad61_70 += M\n",
        "\n",
        "\n",
        "print(Edad61_70)"
      ],
      "metadata": {
        "colab": {
          "base_uri": "https://localhost:8080/"
        },
        "id": "DXbtINxlp2Oi",
        "outputId": "3e54960b-4056-483a-8821-c8907d4717e6"
      },
      "execution_count": null,
      "outputs": [
        {
          "output_type": "stream",
          "name": "stdout",
          "text": [
            "133\n"
          ]
        }
      ]
    },
    {
      "cell_type": "code",
      "source": [
        "np_edad7=np.array(Datos.edad)\n",
        "EdadT7=np_edad7.transpose()\n",
        "\n",
        "for index,k in enumerate(EdadT7):\n",
        "  if 71<=k<=80:\n",
        "    np_edad[index]=1\n",
        "  else:\n",
        "    np_edad[index]=0\n",
        "\n",
        "Edad71_80=0\n",
        "for M in EdadT:\n",
        "  Edad71_80 += M\n",
        "\n",
        "\n",
        "print(Edad71_80)"
      ],
      "metadata": {
        "colab": {
          "base_uri": "https://localhost:8080/"
        },
        "id": "JUyJ3ZP1p7se",
        "outputId": "025a75e2-08ed-4185-80f4-435d0c7dda9d"
      },
      "execution_count": null,
      "outputs": [
        {
          "output_type": "stream",
          "name": "stdout",
          "text": [
            "75\n"
          ]
        }
      ]
    },
    {
      "cell_type": "markdown",
      "source": [
        "### - Diagrama de barras \n",
        "\n",
        "Se puede ver en la gráfica que efectivamente la mayoría de deudores se encuentran entre los 21 y 40 años."
      ],
      "metadata": {
        "id": "kgdiHKyZqdpP"
      }
    },
    {
      "cell_type": "code",
      "source": [
        "fig, ax = plt.subplots(figsize =(10, 5))\n",
        "ax.bar(['11-20','21-30', '31-40', '41-50', '51-60','61-70','71-80','>80'], [Edad11_20,Edad21_30,Edad31_40,Edad41_50,Edad51_60,Edad61_70,Edad71_80,1881-(Edad11_20+Edad21_30+Edad31_40+Edad41_50+Edad51_60+Edad61_70+Edad71_80)])\n",
        "ax.set_title('Edades',loc = \"left\", fontdict = {'fontsize':14, 'fontweight':'bold'})\n",
        "plt.show()\n",
        "\n"
      ],
      "metadata": {
        "colab": {
          "base_uri": "https://localhost:8080/"
        },
        "id": "MWTdhLC_qvsl",
        "outputId": "bc95bcea-7be5-43f8-d1ff-0d0212f82021"
      },
      "execution_count": null,
      "outputs": [
        {
          "output_type": "display_data",
          "data": {
            "text/plain": [
              "<Figure size 720x360 with 1 Axes>"
            ],
            "image/png": "[encoded data removed]"
          },
          "metadata": {
            "needs_background": "light"
          }
        }
      ]
    },
    {
      "cell_type": "markdown",
      "source": [
        "De esta gráfica se pueden observar varias cosas, entre ellas, que la tendencia es que los deudores tienden a decrecer con respecto a la Edad, apartir de los 30 años y a crecer de los 18 a los 30 años; tambien, la mayoria de deudores se encuentran entre los 20 y 40 años, aunque no se pueden descartar las Edades fuera de este rango. "
      ],
      "metadata": {
        "id": "Ns-BNgTiGlof"
      }
    },
    {
      "cell_type": "markdown",
      "source": [
        "###5.1.5. Estadistica Descriptiva de la Variable Sexo:\n",
        "Esta variable, según el comando `Datos.info()` es de tipo `object` esto significa que se trata de una cadena de simbolos alfa-numericos; es por ello que el comando `Datos.describe()` no nos provee informacion de la misma.\n",
        "\n",
        "Por lo que debemos usar esta misma función especificamente para esta variable:"
      ],
      "metadata": {
        "id": "wwnPTrHV1Sm1"
      }
    },
    {
      "cell_type": "code",
      "source": [
        "Datos.sexo.describe()"
      ],
      "metadata": {
        "colab": {
          "base_uri": "https://localhost:8080/"
        },
        "id": "9qT6RCT5udC4",
        "outputId": "e955055f-a541-438f-e2fe-229053ef1590"
      },
      "execution_count": null,
      "outputs": [
        {
          "output_type": "execute_result",
          "data": {
            "text/plain": [
              "count          1882\n",
              "unique            2\n",
              "top       Masculino\n",
              "freq            973\n",
              "Name: sexo, dtype: object"
            ]
          },
          "metadata": {},
          "execution_count": 41
        }
      ]
    },
    {
      "cell_type": "markdown",
      "source": [
        "La tabla de arriba nos provee de toda la información estadistica que podemos obtener de la variable **Sexo** (Al menos por ahora pues solo tratamos con *Variables Unidimensionales*), asi que es importante revisar cuales son, aquellos que no conocemos:\n",
        "\n",
        "\n",
        "*   **unique:** Son la lista de categorias Cualitativas que se le pueden asignar a los datos de esta variable, en este caso 2, Masculino y Femenino. \n",
        "*   **top:** La *Moda* (Medida de Tendencia Central), que por su definición tambien es aplicable a las Variables Cualitativas, en este caso es la categoria Masculino.\n",
        "*   **freq:** La cantidad de veces que se repite la Moda, para esta variable es 973 veces.\n"
      ],
      "metadata": {
        "id": "IU_JbyeUszxQ"
      }
    },
    {
      "cell_type": "markdown",
      "source": [
        "Otro dato estadistico que podemos tomar de esta variable son las *Proporciones* de cada categoria, y para calcularlos, nos serviremos de algunos algoritmos, como sigue:"
      ],
      "metadata": {
        "id": "50vbRjQtwJ-6"
      }
    },
    {
      "cell_type": "code",
      "source": [
        "DataS=np.array(Datos.sexo)\n",
        "DataSex=DataS.transpose()\n",
        "\n",
        "# Numero de Elementos de Categoria Masculino en Sexo\n",
        "for index,k in enumerate(DataSex):\n",
        "  if k=='Masculino':\n",
        "    DataSex[index]=1\n",
        "  else:\n",
        "    DataSex[index]=0\n",
        "\n",
        "Num_Masculino=0\n",
        "for M in DataSex:\n",
        "  Num_Masculino += M\n",
        "\n",
        "print(Num_Masculino)\n",
        "\n",
        "# Proporcion de elementos Masculino en Sexo\n",
        "Prop_Sex_Masculino = Num_Masculino/len(Datos.sexo)*100\n",
        "print(Prop_Sex_Masculino,\"%\")"
      ],
      "metadata": {
        "colab": {
          "base_uri": "https://localhost:8080/"
        },
        "id": "ZiPH-PVbx59y",
        "outputId": "91b1d32c-73f2-4e1c-91d8-5360943b1d5c"
      },
      "execution_count": null,
      "outputs": [
        {
          "output_type": "stream",
          "name": "stdout",
          "text": [
            "973\n",
            "51.70031880977683 %\n"
          ]
        }
      ]
    },
    {
      "cell_type": "markdown",
      "source": [
        "Y las Proporciones de \"*Femenino*\" con respecto a la Variable serán:"
      ],
      "metadata": {
        "id": "K6xCDqLi8qFt"
      }
    },
    {
      "cell_type": "code",
      "source": [
        "DataS=np.array(Datos.sexo)\n",
        "DataSex=DataS.transpose()\n",
        "\n",
        "# Numero de Elementos de Categoria Femenino en Sexo\n",
        "for index,k in enumerate(DataSex):\n",
        "  if k=='Femenino':\n",
        "    DataSex[index]=1\n",
        "  else:\n",
        "    DataSex[index]=0\n",
        "\n",
        "Num_Femenino=0\n",
        "for F in DataSex:\n",
        "  Num_Femenino += F\n",
        "\n",
        "print(Num_Femenino)\n",
        "\n",
        "#Proporción de Femenino en Sexo\n",
        "Prop_Sex_Femenino = Num_Femenino/len(Datos.sexo)*100\n",
        "print(Prop_Sex_Femenino,\"%\")"
      ],
      "metadata": {
        "colab": {
          "base_uri": "https://localhost:8080/"
        },
        "id": "EN-oH0jL8ogi",
        "outputId": "0fb76438-1d47-40f5-8b56-e196184e9b1a"
      },
      "execution_count": null,
      "outputs": [
        {
          "output_type": "stream",
          "name": "stdout",
          "text": [
            "909\n",
            "48.29968119022317 %\n"
          ]
        }
      ]
    },
    {
      "cell_type": "markdown",
      "source": [
        "Podremos realizar una Grafica de Pastel de la Variable Sexo, en este caso se compara de entre la cantidad de mujeres y el de hombres.\n",
        " La variable *Sexo* no es interpretada por **NumPy** como una *Numerica* (mas especificamente del tipo `object`), por lo que debemos manipular los datos para cambiar su tipo:\n",
        "\n"
      ],
      "metadata": {
        "id": "Z_zaB6JP6avP"
      }
    },
    {
      "cell_type": "code",
      "source": [
        "fig, ax = plt.subplots(figsize =(8, 10))\n",
        "Gender=['Hombres','Mujeres']\n",
        "Num_Gender=[Num_Masculino,1881-Num_Masculino]\n",
        "plt.pie(Num_Gender, labels=Gender, autopct=\"%0.1f %%\")\n",
        "plt.show()"
      ],
      "metadata": {
        "colab": {
          "base_uri": "https://localhost:8080/"
        },
        "id": "AgAmNnfUzb01",
        "outputId": "65e19289-7559-463d-e039-f3c454b12f93"
      },
      "execution_count": null,
      "outputs": [
        {
          "output_type": "display_data",
          "data": {
            "text/plain": [
              "<Figure size 576x720 with 1 Axes>"
            ],
            "image/png": "[encoded data removed]"
          },
          "metadata": {}
        }
      ]
    },
    {
      "cell_type": "markdown",
      "source": [
        "Y de donde se puede decir que la mayoria de deudores son hombres, aunque la diferencia no es significativa."
      ],
      "metadata": {
        "id": "kmuRiN0GrCCc"
      }
    },
    {
      "cell_type": "markdown",
      "source": [
        "##5.2 Análisis de dos variables \n",
        "podemos crear una gráfica de comparación pairplot de la edad (clasificando en dos grupos) con los montos de recuperación esperados y el monto de recuperación real, y ver que tipo e clientes realmente cumplen con el pago.\n",
        "\n",
        "*gráficos de dispersión*\n",
        "\n"
      ],
      "metadata": {
        "id": "3Jcs2XZw_LT5"
      }
    },
    {
      "cell_type": "markdown",
      "source": [
        "Para realizar el analisis gráfico comparando las variables que tenemos 2 a 2, necesitaremos expresar a las variables *sexo* y *Estrategia de Recuperación* como variables numericas:"
      ],
      "metadata": {
        "id": "CtJD8Wuqr2ue"
      }
    },
    {
      "cell_type": "code",
      "source": [
        "find = ['Masculino', 'Femenino','Nivel 0 de Recuperacion','Nivel 1 de Recuperacion', 'Nivel 2 de Recuperacion','Nivel 3 de Recuperacion', 'Nivel 4 de Recuperacion']\n",
        "replace = [0,1,0,1,2,3,4]\n",
        "Datos_Numerico = Datos.replace(find, replace)\n",
        "Datos_Numerico.head()"
      ],
      "metadata": {
        "colab": {
          "base_uri": "https://localhost:8080/",
          "height": 206
        },
        "id": "H6BmVMmPtw1e",
        "outputId": "f609493c-2e66-431d-a5ff-4040057984bb"
      },
      "execution_count": null,
      "outputs": [
        {
          "output_type": "execute_result",
          "data": {
            "text/plain": [
              "     id  monto_de_recuperacion_esperado  monto_de_recuperacion_real  \\\n",
              "0  2030                             194                     263.540   \n",
              "1  1150                             486                     416.090   \n",
              "2   380                             527                     429.350   \n",
              "3  1838                             536                     296.990   \n",
              "4  1995                             541                     346.385   \n",
              "\n",
              "   estrategia_de_recuperacion  edad  sexo  \n",
              "0                           0    19     0  \n",
              "1                           0    25     1  \n",
              "2                           0    27     0  \n",
              "3                           0    25     0  \n",
              "4                           0    34     0  "
            ],
            "text/html": [
              "\n",
              "  <div id=\"df-78cf37fd-b356-419f-aeaa-625fd276005d\">\n",
              "    <div class=\"colab-df-container\">\n",
              "      <div>\n",
              "<style scoped>\n",
              "    .dataframe tbody tr th:only-of-type {\n",
              "        vertical-align: middle;\n",
              "    }\n",
              "\n",
              "    .dataframe tbody tr th {\n",
              "        vertical-align: top;\n",
              "    }\n",
              "\n",
              "    .dataframe thead th {\n",
              "        text-align: right;\n",
              "    }\n",
              "</style>\n",
              "<table border=\"1\" class=\"dataframe\">\n",
              "  <thead>\n",
              "    <tr style=\"text-align: right;\">\n",
              "      <th></th>\n",
              "      <th>id</th>\n",
              "      <th>monto_de_recuperacion_esperado</th>\n",
              "      <th>monto_de_recuperacion_real</th>\n",
              "      <th>estrategia_de_recuperacion</th>\n",
              "      <th>edad</th>\n",
              "      <th>sexo</th>\n",
              "    </tr>\n",
              "  </thead>\n",
              "  <tbody>\n",
              "    <tr>\n",
              "      <th>0</th>\n",
              "      <td>2030</td>\n",
              "      <td>194</td>\n",
              "      <td>263.540</td>\n",
              "      <td>0</td>\n",
              "      <td>19</td>\n",
              "      <td>0</td>\n",
              "    </tr>\n",
              "    <tr>\n",
              "      <th>1</th>\n",
              "      <td>1150</td>\n",
              "      <td>486</td>\n",
              "      <td>416.090</td>\n",
              "      <td>0</td>\n",
              "      <td>25</td>\n",
              "      <td>1</td>\n",
              "    </tr>\n",
              "    <tr>\n",
              "      <th>2</th>\n",
              "      <td>380</td>\n",
              "      <td>527</td>\n",
              "      <td>429.350</td>\n",
              "      <td>0</td>\n",
              "      <td>27</td>\n",
              "      <td>0</td>\n",
              "    </tr>\n",
              "    <tr>\n",
              "      <th>3</th>\n",
              "      <td>1838</td>\n",
              "      <td>536</td>\n",
              "      <td>296.990</td>\n",
              "      <td>0</td>\n",
              "      <td>25</td>\n",
              "      <td>0</td>\n",
              "    </tr>\n",
              "    <tr>\n",
              "      <th>4</th>\n",
              "      <td>1995</td>\n",
              "      <td>541</td>\n",
              "      <td>346.385</td>\n",
              "      <td>0</td>\n",
              "      <td>34</td>\n",
              "      <td>0</td>\n",
              "    </tr>\n",
              "  </tbody>\n",
              "</table>\n",
              "</div>\n",
              "      <button class=\"colab-df-convert\" onclick=\"convertToInteractive('df-78cf37fd-b356-419f-aeaa-625fd276005d')\"\n",
              "              title=\"Convert this dataframe to an interactive table.\"\n",
              "              style=\"display:none;\">\n",
              "        \n",
              "  <svg xmlns=\"http://www.w3.org/2000/svg\" height=\"24px\"viewBox=\"0 0 24 24\"\n",
              "       width=\"24px\">\n",
              "    <path d=\"M0 0h24v24H0V0z\" fill=\"none\"/>\n",
              "    <path d=\"M18.56 5.44l.94 2.06.94-2.06 2.06-.94-2.06-.94-.94-2.06-.94 2.06-2.06.94zm-11 1L8.5 8.5l.94-2.06 2.06-.94-2.06-.94L8.5 2.5l-.94 2.06-2.06.94zm10 10l.94 2.06.94-2.06 2.06-.94-2.06-.94-.94-2.06-.94 2.06-2.06.94z\"/><path d=\"M17.41 7.96l-1.37-1.37c-.4-.4-.92-.59-1.43-.59-.52 0-1.04.2-1.43.59L10.3 9.45l-7.72 7.72c-.78.78-.78 2.05 0 2.83L4 21.41c.39.39.9.59 1.41.59.51 0 1.02-.2 1.41-.59l7.78-7.78 2.81-2.81c.8-.78.8-2.07 0-2.86zM5.41 20L4 18.59l7.72-7.72 1.47 1.35L5.41 20z\"/>\n",
              "  </svg>\n",
              "      </button>\n",
              "      \n",
              "  <style>\n",
              "    .colab-df-container {\n",
              "      display:flex;\n",
              "      flex-wrap:wrap;\n",
              "      gap: 12px;\n",
              "    }\n",
              "\n",
              "    .colab-df-convert {\n",
              "      background-color: #E8F0FE;\n",
              "      border: none;\n",
              "      border-radius: 50%;\n",
              "      cursor: pointer;\n",
              "      display: none;\n",
              "      fill: #1967D2;\n",
              "      height: 32px;\n",
              "      padding: 0 0 0 0;\n",
              "      width: 32px;\n",
              "    }\n",
              "\n",
              "    .colab-df-convert:hover {\n",
              "      background-color: #E2EBFA;\n",
              "      box-shadow: 0px 1px 2px rgba(60, 64, 67, 0.3), 0px 1px 3px 1px rgba(60, 64, 67, 0.15);\n",
              "      fill: #174EA6;\n",
              "    }\n",
              "\n",
              "    [theme=dark] .colab-df-convert {\n",
              "      background-color: #3B4455;\n",
              "      fill: #D2E3FC;\n",
              "    }\n",
              "\n",
              "    [theme=dark] .colab-df-convert:hover {\n",
              "      background-color: #434B5C;\n",
              "      box-shadow: 0px 1px 3px 1px rgba(0, 0, 0, 0.15);\n",
              "      filter: drop-shadow(0px 1px 2px rgba(0, 0, 0, 0.3));\n",
              "      fill: #FFFFFF;\n",
              "    }\n",
              "  </style>\n",
              "\n",
              "      <script>\n",
              "        const buttonEl =\n",
              "          document.querySelector('#df-78cf37fd-b356-419f-aeaa-625fd276005d button.colab-df-convert');\n",
              "        buttonEl.style.display =\n",
              "          google.colab.kernel.accessAllowed ? 'block' : 'none';\n",
              "\n",
              "        async function convertToInteractive(key) {\n",
              "          const element = document.querySelector('#df-78cf37fd-b356-419f-aeaa-625fd276005d');\n",
              "          const dataTable =\n",
              "            await google.colab.kernel.invokeFunction('convertToInteractive',\n",
              "                                                     [key], {});\n",
              "          if (!dataTable) return;\n",
              "\n",
              "          const docLinkHtml = 'Like what you see? Visit the ' +\n",
              "            '<a target=\"_blank\" href=https://colab.research.google.com/notebooks/data_table.ipynb>data table notebook</a>'\n",
              "            + ' to learn more about interactive tables.';\n",
              "          element.innerHTML = '';\n",
              "          dataTable['output_type'] = 'display_data';\n",
              "          await google.colab.output.renderOutput(dataTable, element);\n",
              "          const docLink = document.createElement('div');\n",
              "          docLink.innerHTML = docLinkHtml;\n",
              "          element.appendChild(docLink);\n",
              "        }\n",
              "      </script>\n",
              "    </div>\n",
              "  </div>\n",
              "  "
            ]
          },
          "metadata": {},
          "execution_count": 45
        }
      ]
    },
    {
      "cell_type": "markdown",
      "source": [
        "###5.2.? Correlación de Todas las Variables:\n"
      ],
      "metadata": {
        "id": "R_SPzo5ry5IL"
      }
    },
    {
      "cell_type": "markdown",
      "source": [
        "###5.2.9 Gráficas Múltiples de Correlación 2 a 2:\n",
        "Con todo el estudio ya realizado en la relación de cada 2 variables podremos sintetizar toda esta información atraves de una *Matriz de Correlacion*: "
      ],
      "metadata": {
        "id": "6DoyhDrzqZVG"
      }
    },
    {
      "cell_type": "code",
      "source": [
        "corr_matrix = Datos_Numerico.iloc[:,1:7].corr()\n",
        "corr_matrix"
      ],
      "metadata": {
        "colab": {
          "base_uri": "https://localhost:8080/"
        },
        "id": "Sh0bRu8B2QPn",
        "outputId": "e21d5a16-fe6f-43a5-8a99-9592045480ce"
      },
      "execution_count": null,
      "outputs": [
        {
          "output_type": "execute_result",
          "data": {
            "text/plain": [
              "                                monto_de_recuperacion_esperado  \\\n",
              "monto_de_recuperacion_esperado                        1.000000   \n",
              "monto_de_recuperacion_real                            0.903727   \n",
              "estrategia_de_recuperacion                            0.906582   \n",
              "edad                                                  0.794451   \n",
              "sexo                                                  0.021485   \n",
              "\n",
              "                                monto_de_recuperacion_real  \\\n",
              "monto_de_recuperacion_esperado                    0.903727   \n",
              "monto_de_recuperacion_real                        1.000000   \n",
              "estrategia_de_recuperacion                        0.801913   \n",
              "edad                                              0.716007   \n",
              "sexo                                              0.033324   \n",
              "\n",
              "                                estrategia_de_recuperacion      edad      sexo  \n",
              "monto_de_recuperacion_esperado                    0.906582  0.794451  0.021485  \n",
              "monto_de_recuperacion_real                        0.801913  0.716007  0.033324  \n",
              "estrategia_de_recuperacion                        1.000000  0.801555  0.034651  \n",
              "edad                                              0.801555  1.000000 -0.016876  \n",
              "sexo                                              0.034651 -0.016876  1.000000  "
            ],
            "text/html": [
              "\n",
              "  <div id=\"df-912051fe-5f9d-484a-adf7-5962a9d91f89\">\n",
              "    <div class=\"colab-df-container\">\n",
              "      <div>\n",
              "<style scoped>\n",
              "    .dataframe tbody tr th:only-of-type {\n",
              "        vertical-align: middle;\n",
              "    }\n",
              "\n",
              "    .dataframe tbody tr th {\n",
              "        vertical-align: top;\n",
              "    }\n",
              "\n",
              "    .dataframe thead th {\n",
              "        text-align: right;\n",
              "    }\n",
              "</style>\n",
              "<table border=\"1\" class=\"dataframe\">\n",
              "  <thead>\n",
              "    <tr style=\"text-align: right;\">\n",
              "      <th></th>\n",
              "      <th>monto_de_recuperacion_esperado</th>\n",
              "      <th>monto_de_recuperacion_real</th>\n",
              "      <th>estrategia_de_recuperacion</th>\n",
              "      <th>edad</th>\n",
              "      <th>sexo</th>\n",
              "    </tr>\n",
              "  </thead>\n",
              "  <tbody>\n",
              "    <tr>\n",
              "      <th>monto_de_recuperacion_esperado</th>\n",
              "      <td>1.000000</td>\n",
              "      <td>0.903727</td>\n",
              "      <td>0.906582</td>\n",
              "      <td>0.794451</td>\n",
              "      <td>0.021485</td>\n",
              "    </tr>\n",
              "    <tr>\n",
              "      <th>monto_de_recuperacion_real</th>\n",
              "      <td>0.903727</td>\n",
              "      <td>1.000000</td>\n",
              "      <td>0.801913</td>\n",
              "      <td>0.716007</td>\n",
              "      <td>0.033324</td>\n",
              "    </tr>\n",
              "    <tr>\n",
              "      <th>estrategia_de_recuperacion</th>\n",
              "      <td>0.906582</td>\n",
              "      <td>0.801913</td>\n",
              "      <td>1.000000</td>\n",
              "      <td>0.801555</td>\n",
              "      <td>0.034651</td>\n",
              "    </tr>\n",
              "    <tr>\n",
              "      <th>edad</th>\n",
              "      <td>0.794451</td>\n",
              "      <td>0.716007</td>\n",
              "      <td>0.801555</td>\n",
              "      <td>1.000000</td>\n",
              "      <td>-0.016876</td>\n",
              "    </tr>\n",
              "    <tr>\n",
              "      <th>sexo</th>\n",
              "      <td>0.021485</td>\n",
              "      <td>0.033324</td>\n",
              "      <td>0.034651</td>\n",
              "      <td>-0.016876</td>\n",
              "      <td>1.000000</td>\n",
              "    </tr>\n",
              "  </tbody>\n",
              "</table>\n",
              "</div>\n",
              "      <button class=\"colab-df-convert\" onclick=\"convertToInteractive('df-912051fe-5f9d-484a-adf7-5962a9d91f89')\"\n",
              "              title=\"Convert this dataframe to an interactive table.\"\n",
              "              style=\"display:none;\">\n",
              "        \n",
              "  <svg xmlns=\"http://www.w3.org/2000/svg\" height=\"24px\"viewBox=\"0 0 24 24\"\n",
              "       width=\"24px\">\n",
              "    <path d=\"M0 0h24v24H0V0z\" fill=\"none\"/>\n",
              "    <path d=\"M18.56 5.44l.94 2.06.94-2.06 2.06-.94-2.06-.94-.94-2.06-.94 2.06-2.06.94zm-11 1L8.5 8.5l.94-2.06 2.06-.94-2.06-.94L8.5 2.5l-.94 2.06-2.06.94zm10 10l.94 2.06.94-2.06 2.06-.94-2.06-.94-.94-2.06-.94 2.06-2.06.94z\"/><path d=\"M17.41 7.96l-1.37-1.37c-.4-.4-.92-.59-1.43-.59-.52 0-1.04.2-1.43.59L10.3 9.45l-7.72 7.72c-.78.78-.78 2.05 0 2.83L4 21.41c.39.39.9.59 1.41.59.51 0 1.02-.2 1.41-.59l7.78-7.78 2.81-2.81c.8-.78.8-2.07 0-2.86zM5.41 20L4 18.59l7.72-7.72 1.47 1.35L5.41 20z\"/>\n",
              "  </svg>\n",
              "      </button>\n",
              "      \n",
              "  <style>\n",
              "    .colab-df-container {\n",
              "      display:flex;\n",
              "      flex-wrap:wrap;\n",
              "      gap: 12px;\n",
              "    }\n",
              "\n",
              "    .colab-df-convert {\n",
              "      background-color: #E8F0FE;\n",
              "      border: none;\n",
              "      border-radius: 50%;\n",
              "      cursor: pointer;\n",
              "      display: none;\n",
              "      fill: #1967D2;\n",
              "      height: 32px;\n",
              "      padding: 0 0 0 0;\n",
              "      width: 32px;\n",
              "    }\n",
              "\n",
              "    .colab-df-convert:hover {\n",
              "      background-color: #E2EBFA;\n",
              "      box-shadow: 0px 1px 2px rgba(60, 64, 67, 0.3), 0px 1px 3px 1px rgba(60, 64, 67, 0.15);\n",
              "      fill: #174EA6;\n",
              "    }\n",
              "\n",
              "    [theme=dark] .colab-df-convert {\n",
              "      background-color: #3B4455;\n",
              "      fill: #D2E3FC;\n",
              "    }\n",
              "\n",
              "    [theme=dark] .colab-df-convert:hover {\n",
              "      background-color: #434B5C;\n",
              "      box-shadow: 0px 1px 3px 1px rgba(0, 0, 0, 0.15);\n",
              "      filter: drop-shadow(0px 1px 2px rgba(0, 0, 0, 0.3));\n",
              "      fill: #FFFFFF;\n",
              "    }\n",
              "  </style>\n",
              "\n",
              "      <script>\n",
              "        const buttonEl =\n",
              "          document.querySelector('#df-912051fe-5f9d-484a-adf7-5962a9d91f89 button.colab-df-convert');\n",
              "        buttonEl.style.display =\n",
              "          google.colab.kernel.accessAllowed ? 'block' : 'none';\n",
              "\n",
              "        async function convertToInteractive(key) {\n",
              "          const element = document.querySelector('#df-912051fe-5f9d-484a-adf7-5962a9d91f89');\n",
              "          const dataTable =\n",
              "            await google.colab.kernel.invokeFunction('convertToInteractive',\n",
              "                                                     [key], {});\n",
              "          if (!dataTable) return;\n",
              "\n",
              "          const docLinkHtml = 'Like what you see? Visit the ' +\n",
              "            '<a target=\"_blank\" href=https://colab.research.google.com/notebooks/data_table.ipynb>data table notebook</a>'\n",
              "            + ' to learn more about interactive tables.';\n",
              "          element.innerHTML = '';\n",
              "          dataTable['output_type'] = 'display_data';\n",
              "          await google.colab.output.renderOutput(dataTable, element);\n",
              "          const docLink = document.createElement('div');\n",
              "          docLink.innerHTML = docLinkHtml;\n",
              "          element.appendChild(docLink);\n",
              "        }\n",
              "      </script>\n",
              "    </div>\n",
              "  </div>\n",
              "  "
            ]
          },
          "metadata": {},
          "execution_count": 46
        }
      ]
    },
    {
      "cell_type": "markdown",
      "source": [
        "Aunque esta matriz nos provee de información útil, podremos mostrar la correlación entre variables de manera mas sintactica atravez de su respectiva *Gráfica de Panal*:"
      ],
      "metadata": {
        "id": "PqTW-9xNtRUW"
      }
    },
    {
      "cell_type": "code",
      "source": [
        "plt.figure(figsize=(8,8))\n",
        "sns.heatmap(corr_matrix, annot = True)\n",
        "\n",
        "plt.show()"
      ],
      "metadata": {
        "colab": {
          "base_uri": "https://localhost:8080/"
        },
        "id": "XauotqT62zFa",
        "outputId": "a6173dbd-ec9d-418f-c6bc-876c15ea81ea"
      },
      "execution_count": null,
      "outputs": [
        {
          "output_type": "display_data",
          "data": {
            "text/plain": [
              "<Figure size 576x576 with 2 Axes>"
            ],
            "image/png": "[encoded data removed]"
          },
          "metadata": {
            "needs_background": "light"
          }
        }
      ]
    },
    {
      "cell_type": "markdown",
      "source": [
        "**Monto de Recuperación Esperado - Estrategia de Recuperación:** La alta correlacion entre las dos es evidente pues una es la clasificación creada para el otro.\n",
        "\n",
        "**Monto de Recuperación Real - Estrategia de Recuperación:** Como se puede observar el coeficiente de correlacion entre estas 2 variables es del 80%, menor al 90% de correlacion entre el Nivel de Recuperación y el Monto supuesto por el Banco; sin embargo, esto indica una alta precision en cuanto a la asignación de estrategias por parte del Banco, sin embargo,  desconocemos si este nivel es aceptable.\n",
        "\n",
        "\n",
        "**Sexo**: Como es de esperar, el sexo no tiene correlación con ninguna de las tres variables ya que una persona puede estar endeudada en mayor o menor medida independientemente del sexo que tenga.\n",
        "\n",
        "**Edad-Nivel de estrategia de recuperación**: La alta correlación se debe a que mientras mayor sea una persona, esta tiene más capacidad de pagar una deuda, por tanto la estrategia de recuperación aplicada por el banco será mayor.\n",
        "\n"
      ],
      "metadata": {
        "id": "i9Jok4Xdv2kY"
      }
    },
    {
      "cell_type": "markdown",
      "source": [
        "Además podremos realizar un cuadro completo de las diferentes *Gráficas de Dispersion* entre cada 2 variables como sigue:"
      ],
      "metadata": {
        "id": "iRHuBGPTv-09"
      }
    },
    {
      "cell_type": "code",
      "source": [
        "plt.figure(figsize=(10,15))\n",
        "sns.pairplot(data=Datos_Numerico,vars=['monto_de_recuperacion_esperado', 'monto_de_recuperacion_real', 'edad'], hue=None)\n",
        "plt.show()"
      ],
      "metadata": {
        "colab": {
          "base_uri": "https://localhost:8080/"
        },
        "id": "yolnNhROzOBf",
        "outputId": "a34f5c92-a864-4f85-aee7-2dfefe13b139"
      },
      "execution_count": null,
      "outputs": [
        {
          "output_type": "display_data",
          "data": {
            "text/plain": [
              "<Figure size 720x1080 with 0 Axes>"
            ]
          },
          "metadata": {}
        },
        {
          "output_type": "display_data",
          "data": {
            "text/plain": [
              "<Figure size 540x540 with 12 Axes>"
            ],
            "image/png": "[encoded data removed]"
          },
          "metadata": {
            "needs_background": "light"
          }
        }
      ]
    },
    {
      "cell_type": "markdown",
      "source": [
        "**Inserte observaciones apartir de la gráfica**"
      ],
      "metadata": {
        "id": "hQGDblxbwSo4"
      }
    },
    {
      "cell_type": "markdown",
      "source": [
        "*  **Monto de recuperación esperado - Monto de recuperación real:**\n",
        "Al relacionar estas variables podemos evidenciar en la gráfica que entre más alto sea el monto de recuperación esperado más alto será el monto de recuperación real, ya que, es claro que entre más se le deba al banco más altas serán las cuotas. \n",
        "*  **Monto de recuperación esperado - Edad:** \n",
        "Al relacionar estas variables podemos deducir que el monto de recuperación esperado más alto se encuentra entre la edad de 50 a 80 años, lo cual es entendible ya que personas entre esa edad se relacionan a una mejor estabilidad económica y, por lo tanto, se espera recuperar una mayor cantidad de dinero de estas.\n",
        "*  **Monto de recuperación real - Edad:**\n",
        "Teniendo en cuenta lo anterior, al tener una mejor estabilidad económica las personas que están entre la edad de 50 a 80 años, entonces estas pueden pagar al banco una mayor cantidad y, por lo tanto, el dinero recuperado de estas es mayor.\n",
        " \n"
      ],
      "metadata": {
        "id": "itZKd6NQUods"
      }
    },
    {
      "cell_type": "markdown",
      "source": [
        "##6. Modelo de Regresion: Monto de Recuperacion Esperado-Monto de Recuperacion Real:\n",
        "Ahora, buscamos predecir el comportamiento del Monto de Recuperación Real a partir del Monto de Recuperación Esperado, para esto nos apoyamos en un modelo de regresión lineal: "
      ],
      "metadata": {
        "id": "bBoSwWsn9Enb"
      }
    },
    {
      "cell_type": "markdown",
      "source": [
        "###6.1. Sobre el Modelo:\n",
        "\n",
        "En este primer modelo de regrecion lineal, tomaremos el Monto de Recuperacion Esperado como nuestra Variable Independiente y al Monto de  Recuperacion Real lo designaremos como la Variable Dependiente (Esto es posible debido a la alta correlación que existe entre estos dos).\n",
        "\n",
        "Para ello utilizaremos el primer valor del umbral dado de 1000$, ahora, tomaremos un intervalo alrededor de este umbral, el intervalo será (900,1100), no es necesario tomar intervalos más grandes ya que lo que nos interesa es la distribución de los datos cerca del umbral.\n",
        "\n"
      ],
      "metadata": {
        "id": "f8M5r1D-9mTh"
      }
    },
    {
      "cell_type": "code",
      "source": [
        "#Asignemos un Nombre al intervalo\n",
        "intervalo_900_1100 = Datos.loc[(Datos['monto_de_recuperacion_esperado']<1100) & (Datos['monto_de_recuperacion_esperado']>=900)]\n",
        "\n",
        "print(intervalo_900_1100)"
      ],
      "metadata": {
        "colab": {
          "base_uri": "https://localhost:8080/"
        },
        "id": "ALoBSfmKJVNd",
        "outputId": "bf76f43a-ecb6-48db-f3b2-e387619c604c"
      },
      "execution_count": null,
      "outputs": [
        {
          "output_type": "stream",
          "name": "stdout",
          "text": [
            "       id  monto_de_recuperacion_esperado  monto_de_recuperacion_real  \\\n",
            "158   520                             900                  504.790000   \n",
            "159  1036                             900                  539.535000   \n",
            "160  1383                             900                  554.745000   \n",
            "161   998                             901                  887.005000   \n",
            "162  1351                             903                  667.035000   \n",
            "..    ...                             ...                         ...   \n",
            "336  1184                            1096                 1077.218384   \n",
            "337  1664                            1096                 2053.290126   \n",
            "338   302                            1098                  876.997775   \n",
            "339   554                            1098                 1836.918718   \n",
            "340  1501                            1099                 1277.630578   \n",
            "\n",
            "    estrategia_de_recuperacion  edad       sexo  \n",
            "158    Nivel 0 de Recuperacion    34  Masculino  \n",
            "159    Nivel 0 de Recuperacion    34   Femenino  \n",
            "160    Nivel 0 de Recuperacion    24  Masculino  \n",
            "161    Nivel 0 de Recuperacion    32  Masculino  \n",
            "162    Nivel 0 de Recuperacion    28  Masculino  \n",
            "..                         ...   ...        ...  \n",
            "336    Nivel 1 de Recuperacion    38  Masculino  \n",
            "337    Nivel 1 de Recuperacion    18   Femenino  \n",
            "338    Nivel 1 de Recuperacion    34  Masculino  \n",
            "339    Nivel 1 de Recuperacion    26   Femenino  \n",
            "340    Nivel 1 de Recuperacion    42   Femenino  \n",
            "\n",
            "[183 rows x 6 columns]\n"
          ]
        }
      ]
    },
    {
      "cell_type": "markdown",
      "source": [
        "Ahora calcularemos el monto de recuperación real promedio para aquellos clientes justo por debajo y por encima del umbral utilizando un rango de 900 a 1100. Luego, realizaremos una prueba de Kruskal-Wallis para ver si las cantidades de recuperación reales son diferentes justo por encima y por debajo del umbral."
      ],
      "metadata": {
        "id": "CIGhgkB6Ik2y"
      }
    },
    {
      "cell_type": "code",
      "source": [
        "Nivel_0_actual = intervalo_900_1100.loc[Datos['estrategia_de_recuperacion']=='Nivel 0 de Recuperacion']['monto_de_recuperacion_real']\n",
        "Nivel_1_actual = intervalo_900_1100.loc[Datos['estrategia_de_recuperacion']=='Nivel 1 de Recuperacion']['monto_de_recuperacion_real']\n",
        "stats.kruskal(Nivel_0_actual,Nivel_1_actual) "
      ],
      "metadata": {
        "colab": {
          "base_uri": "https://localhost:8080/"
        },
        "id": "HYPUTmcIEdln",
        "outputId": "1c543a9f-dccc-4d1a-b0f9-6d3b47fe2b49"
      },
      "execution_count": null,
      "outputs": [
        {
          "output_type": "execute_result",
          "data": {
            "text/plain": [
              "KruskalResult(statistic=65.37966302528878, pvalue=6.177308752803109e-16)"
            ]
          },
          "metadata": {},
          "execution_count": 50
        }
      ]
    },
    {
      "cell_type": "markdown",
      "source": [
        "Hay que tener en cuenta que el método de Kruskal-Wallis se utiliza para corroborar si existen diferencias relevantes a nivel estadístico entre dos o más grupos de una variable independiente en una variable dependiente.\n",
        "\n",
        "La prueba determina si las madianas de dos o más grupos son diferentes. De esta forma calcula un estadístico de prueba y lo compara con un punto de corte de la distribución.\n",
        "\n",
        "El P-valor es la probabilidad que mide la evidencia en contra de la hipótesis nula. Las probabilidades más bajas proporcionan una evidencia más fuerte en contra de la hipótesis nula. Con lo que en este caso se rechaza la hipótesis nula y se concluye que no todas las medianas son iguales, con lo que es conveniente realizar una regresión lineal. "
      ],
      "metadata": {
        "id": "_2blILh1ItmC"
      }
    },
    {
      "cell_type": "markdown",
      "source": [
        "###6.1.1. Regresión lineal:\n",
        "Ahora queremos adoptar un enfoque basado en la regresión lineal para estimar el impacto del programa en el umbral de $1000 utilizando datos que están justo por encima y por debajo del umbral.\n",
        "\n",
        "\n",
        "En este modelo, no estamos representando el umbral sino simplemente viendo cómo la variable utilizada para asignar los clientes (monto de recuperación esperado) se relaciona con la variable de resultado (monto de recuperación real).\n",
        "\n",
        "Buscamos observar si el dinero extra invertido en asignar una Estrategia de Recuperación alta es rentable para el banco. \n",
        "\n"
      ],
      "metadata": {
        "id": "GAenQw4WJeA_"
      }
    },
    {
      "cell_type": "code",
      "source": [
        "#Asignemos las Variables:\n",
        "x = intervalo_900_1100['monto_de_recuperacion_esperado']\n",
        "y = intervalo_900_1100['monto_de_recuperacion_real']"
      ],
      "metadata": {
        "id": "gin1VOlFFNWA"
      },
      "execution_count": null,
      "outputs": []
    },
    {
      "cell_type": "code",
      "source": [
        "n = len(x)\n",
        "z = np.array(x)\n",
        "w = np.array(y)\n",
        "sumx = sum(z)\n",
        "sumy = sum(w)\n",
        "sumx2 = sum(z**2)\n",
        "sumy2 = sum(w**2)\n",
        "sumxy = sum(z*w)\n",
        "promx = sumx/n\n",
        "promy = sumy/n\n",
        "m = (sumx*sumy-n*sumxy)/(sumx*sumx-n*sumx2)\n",
        "b = promy-m*promx\n",
        "plt.figure(figsize =(20, 10))\n",
        "plt.scatter(z,w, label=\"Datos\", s=12)\n",
        "plt.plot(z,m*z+b, label=\"Ajuste\", color=\"red\")\n",
        "plt.xlabel(\"Monto de recuperación esperado\")\n",
        "plt.ylabel(\"Monto de recuperación real\")\n",
        "plt.title(\"Regresión lineal\")\n",
        "plt.grid()\n",
        "plt.legend()\n",
        "plt.show()"
      ],
      "metadata": {
        "colab": {
          "base_uri": "https://localhost:8080/",
          "height": 622
        },
        "id": "JfqqsyszJtRc",
        "outputId": "0aa47133-63f8-496f-a838-0e5dbf2422e5"
      },
      "execution_count": null,
      "outputs": [
        {
          "output_type": "display_data",
          "data": {
            "text/plain": [
              "<Figure size 1440x720 with 1 Axes>"
            ],
            "image/png": "[encoded data removed]"
          },
          "metadata": {
            "needs_background": "light"
          }
        }
      ]
    },
    {
      "cell_type": "markdown",
      "source": [
        "Ahora, necesitamos el coeficiente de determinación para saber que tan buen ajuste fue el que acabamos de hacer."
      ],
      "metadata": {
        "id": "eG6qEE7LJ6Dv"
      }
    },
    {
      "cell_type": "code",
      "source": [
        "varix = np.sqrt(sumx2/n - promx*promx)\n",
        "variy = np.sqrt(sumy2/n - promy*promy)\n",
        "covarixy = sumxy/n - promx*promy\n",
        "R2 = (covarixy/(varix*variy))**2\n",
        "print(R2)"
      ],
      "metadata": {
        "colab": {
          "base_uri": "https://localhost:8080/"
        },
        "id": "ZfNi7jJFJ7Nw",
        "outputId": "d28ca375-2efc-46ff-e1d3-e452905d7a08"
      },
      "execution_count": null,
      "outputs": [
        {
          "output_type": "stream",
          "name": "stdout",
          "text": [
            "0.2605541661465666\n"
          ]
        }
      ]
    },
    {
      "cell_type": "markdown",
      "source": [
        "Dicho coeficiente nos muestra que el ajuste no es tan bueno, sin embargo es el mejor que se puede realizar. \n",
        "\n",
        "Ahora procederemos a verificar que el modelo que realizamos mediante métodos matemáticos coincide con el generado por el comando\n",
        "```\n",
        "sm.OLS(y,x).fit()\n",
        "```\n",
        "\n"
      ],
      "metadata": {
        "id": "bbT_36BcgcP8"
      }
    },
    {
      "cell_type": "code",
      "source": [
        "\n",
        "x = sm.add_constant(x)\n",
        "modelo = sm.OLS(y, x).fit()\n",
        "predicciones = modelo.predict(x)\n",
        "\n",
        "\n",
        "modelo.summary()"
      ],
      "metadata": {
        "colab": {
          "base_uri": "https://localhost:8080/",
          "height": 521
        },
        "id": "d9yRmUc1KCDO",
        "outputId": "3ae62ac1-5a8a-4f83-f062-260366fa4509"
      },
      "execution_count": null,
      "outputs": [
        {
          "output_type": "stream",
          "name": "stderr",
          "text": [
            "/usr/local/lib/python3.8/dist-packages/statsmodels/tsa/tsatools.py:142: FutureWarning: In a future version of pandas all arguments of concat except for the argument 'objs' will be keyword-only\n",
            "  x = pd.concat(x[::order], 1)\n"
          ]
        },
        {
          "output_type": "execute_result",
          "data": {
            "text/plain": [
              "<class 'statsmodels.iolib.summary.Summary'>\n",
              "\"\"\"\n",
              "                                OLS Regression Results                                \n",
              "======================================================================================\n",
              "Dep. Variable:     monto_de_recuperacion_real   R-squared:                       0.261\n",
              "Model:                                    OLS   Adj. R-squared:                  0.256\n",
              "Method:                         Least Squares   F-statistic:                     63.78\n",
              "Date:                        Tue, 06 Dec 2022   Prob (F-statistic):           1.56e-13\n",
              "Time:                                21:23:10   Log-Likelihood:                -1278.9\n",
              "No. Observations:                         183   AIC:                             2562.\n",
              "Df Residuals:                             181   BIC:                             2568.\n",
              "Df Model:                                   1                                         \n",
              "Covariance Type:                    nonrobust                                         \n",
              "==================================================================================================\n",
              "                                     coef    std err          t      P>|t|      [0.025      0.975]\n",
              "--------------------------------------------------------------------------------------------------\n",
              "const                          -1978.7597    347.741     -5.690      0.000   -2664.907   -1292.612\n",
              "monto_de_recuperacion_esperado     2.7577      0.345      7.986      0.000       2.076       3.439\n",
              "==============================================================================\n",
              "Omnibus:                       64.493   Durbin-Watson:                   1.777\n",
              "Prob(Omnibus):                  0.000   Jarque-Bera (JB):              185.818\n",
              "Skew:                           1.463   Prob(JB):                     4.47e-41\n",
              "Kurtosis:                       6.977   Cond. No.                     1.80e+04\n",
              "==============================================================================\n",
              "\n",
              "Notes:\n",
              "[1] Standard Errors assume that the covariance matrix of the errors is correctly specified.\n",
              "[2] The condition number is large, 1.8e+04. This might indicate that there are\n",
              "strong multicollinearity or other numerical problems.\n",
              "\"\"\""
            ],
            "text/html": [
              "<table class=\"simpletable\">\n",
              "<caption>OLS Regression Results</caption>\n",
              "<tr>\n",
              "  <th>Dep. Variable:</th>    <td>monto_de_recuperacion_real</td> <th>  R-squared:         </th> <td>   0.261</td>\n",
              "</tr>\n",
              "<tr>\n",
              "  <th>Model:</th>                        <td>OLS</td>            <th>  Adj. R-squared:    </th> <td>   0.256</td>\n",
              "</tr>\n",
              "<tr>\n",
              "  <th>Method:</th>                  <td>Least Squares</td>       <th>  F-statistic:       </th> <td>   63.78</td>\n",
              "</tr>\n",
              "<tr>\n",
              "  <th>Date:</th>                  <td>Tue, 06 Dec 2022</td>      <th>  Prob (F-statistic):</th> <td>1.56e-13</td>\n",
              "</tr>\n",
              "<tr>\n",
              "  <th>Time:</th>                      <td>21:23:10</td>          <th>  Log-Likelihood:    </th> <td> -1278.9</td>\n",
              "</tr>\n",
              "<tr>\n",
              "  <th>No. Observations:</th>           <td>   183</td>           <th>  AIC:               </th> <td>   2562.</td>\n",
              "</tr>\n",
              "<tr>\n",
              "  <th>Df Residuals:</th>               <td>   181</td>           <th>  BIC:               </th> <td>   2568.</td>\n",
              "</tr>\n",
              "<tr>\n",
              "  <th>Df Model:</th>                   <td>     1</td>           <th>                     </th>     <td> </td>   \n",
              "</tr>\n",
              "<tr>\n",
              "  <th>Covariance Type:</th>           <td>nonrobust</td>         <th>                     </th>     <td> </td>   \n",
              "</tr>\n",
              "</table>\n",
              "<table class=\"simpletable\">\n",
              "<tr>\n",
              "                 <td></td>                   <th>coef</th>     <th>std err</th>      <th>t</th>      <th>P>|t|</th>  <th>[0.025</th>    <th>0.975]</th>  \n",
              "</tr>\n",
              "<tr>\n",
              "  <th>const</th>                          <td>-1978.7597</td> <td>  347.741</td> <td>   -5.690</td> <td> 0.000</td> <td>-2664.907</td> <td>-1292.612</td>\n",
              "</tr>\n",
              "<tr>\n",
              "  <th>monto_de_recuperacion_esperado</th> <td>    2.7577</td> <td>    0.345</td> <td>    7.986</td> <td> 0.000</td> <td>    2.076</td> <td>    3.439</td>\n",
              "</tr>\n",
              "</table>\n",
              "<table class=\"simpletable\">\n",
              "<tr>\n",
              "  <th>Omnibus:</th>       <td>64.493</td> <th>  Durbin-Watson:     </th> <td>   1.777</td>\n",
              "</tr>\n",
              "<tr>\n",
              "  <th>Prob(Omnibus):</th> <td> 0.000</td> <th>  Jarque-Bera (JB):  </th> <td> 185.818</td>\n",
              "</tr>\n",
              "<tr>\n",
              "  <th>Skew:</th>          <td> 1.463</td> <th>  Prob(JB):          </th> <td>4.47e-41</td>\n",
              "</tr>\n",
              "<tr>\n",
              "  <th>Kurtosis:</th>      <td> 6.977</td> <th>  Cond. No.          </th> <td>1.80e+04</td>\n",
              "</tr>\n",
              "</table><br/><br/>Notes:<br/>[1] Standard Errors assume that the covariance matrix of the errors is correctly specified.<br/>[2] The condition number is large, 1.8e+04. This might indicate that there are<br/>strong multicollinearity or other numerical problems."
            ]
          },
          "metadata": {},
          "execution_count": 54
        }
      ]
    },
    {
      "cell_type": "markdown",
      "source": [
        "En esta tabla podemos ver algunos de los valores que usamos para construir el ajuste tales como el Coeficiente de la Constante (que coincide con el valor del intercepto de la recta con el eje y) y el Coeficiente de Monto de Recuperación Esperado (que coincide con la pendiente de la recta).\n",
        "\n",
        "Además podemos observar que el coeficiente de determinación hallado matemáticamente coincide con el valor de R-cuadrado mostrado en la tabla."
      ],
      "metadata": {
        "id": "NrCy9fnDgN15"
      }
    },
    {
      "cell_type": "markdown",
      "source": [
        "###6.2 Conclusiones.\n",
        "\n",
        "Finalmente, a partir de la regresión lineal podremos decir, interpretando el valor que obtuvimos de la pendiente siendo este aproximadamente 2.76, estadísticamente significativo, lo cual quiere decir que por cada UM que se aumente en el Monto de Recuperación Esperado el Monto de Recuperacion Real aumentará en 2.76 UM.\n",
        "\n",
        "Teniendo en cuenta el intervalo tomado (de 900 a 1100) junto con el umbral (de 1000) en donde se aplica una estrategia de recuperación, entonces las 100 UM que se aumentan en el Monto de Recuperación Esperado (de 900 a 1000) hasta llegar al umbral, se aumentará en 276 UM en el Monto de Recuperación Real.\n",
        "\n",
        "Además se sabe que el aplicar una Estrategia de Recuperación alta requiere una inversión de 50 UM por lo que aplicar una Estrategia de Recuperación alta a un a un cliente con mayor deuda es rentable para el banco, ya que recuperará alrededor 276 UM."
      ],
      "metadata": {
        "id": "luzC5t4lQwb4"
      }
    }
  ]
}